{
 "cells": [
  {
   "cell_type": "markdown",
   "id": "5058ac5b",
   "metadata": {},
   "source": [
    "<hr>\n",
    "\n",
    "# <font color='Purple'>GENTETIC ANALYSIS: ONT SEQUENCING DATA ANALYSIS</font>\n",
    "\n",
    "<hr>\n",
    "    \n",
    "Dr Graham S Sellers *g.sellers@hull.ac.uk*"
   ]
  },
  {
   "cell_type": "markdown",
   "id": "119502cc",
   "metadata": {},
   "source": [
    "![image](./images/unix.png)"
   ]
  },
  {
   "cell_type": "markdown",
   "id": "5ecaae3f",
   "metadata": {},
   "source": [
    "# <font color='Purple'>Overview</font>\n",
    "\n",
    "This practical will introduce you to the bioinformatic analysis pipeline used to generate results from ONT MinION sequencing data.  \n",
    "At the end of this practical session you will have bioinformatically analysed a small test set of sequencing data.  \n",
    "Importantly, you will have experienced the steps used in this kind of analysis.  "
   ]
  },
  {
   "cell_type": "markdown",
   "id": "7dd8e672",
   "metadata": {},
   "source": [
    "# <font color='Purple'>1. Introduction to the bioinformatic analysis workflow</font>\n",
    "\n",
    "<hr>\n",
    "\n",
    "This section of the practical assumes the completion of the previous section: **Introduction to the Unix command line**.  \n",
    "You will use your newly aquired skills to perform the exploration of the sequencing data and execute the analysis in this section.  \n",
    "\n",
    "## <font color='Purple'>1.1. What has happened so far</font>\n",
    "Last week we created a final baterial 16S rRNA library for sequencing on Oxford Nanopore Technologies' MinION.  \n",
    "The final stages of library preparation have been performed. The prepared DNA sequencing libaray has been loaded onto the MinION and sequenced. The sequencing output has been \"basecalled\" and we have data in a meaningful file format ready for us to analyse bioinformatically.\n",
    "\n",
    "## <font color='Purple'>1.2. What happens now?</font>\n",
    "**We can at last analyse the data!**  \n",
    "\n",
    "This is done in 3 stages:\n",
    "1. Quality control\n",
    "2. Taxonomic assignment\n",
    "3. Format outputs\n",
    "\n",
    "## <font color='Purple'>1.3. Workflow programs</font>\n",
    "\n",
    "As a breif outline, we will use 3 specific command line based programs for data anlysis.  \n",
    "These are all pre-installed and ready to use, so do not worry.  \n",
    "\n",
    "`seqkit` is used to look at the stats of the data (read length, read count etc.).  \n",
    "`fastp` performs quality control.  \n",
    "`kraken2` performs taxonomic assignment.  \n",
    "We will use a custom `python` script to format the outputs.\n",
    "\n",
    "\n",
    "# <font color='Purple'>2. Organising the working directory</font>\n",
    "\n",
    "<hr>\n",
    "\n",
    "Before we get started we have to make this look and perform more like a bioinformatic analysis working directory.  \n",
    "We need to create some directories for each stage of the anlysis to output results to.  \n",
    "To do this we will use a new command line utility `mkdir`.  \n",
    "\n",
    "`mkdir` creates a directory where you specify, or in your working directory (`pwd`).\n",
    "\n",
    "## <font color='Purple'>2.1. Create a *results* directory</font>\n",
    "\n",
    "\n",
    "We need to create a **results** directory where all the outputs from the analysis go.  \n",
    "Use the following command:\n",
    "\n",
    "```\n",
    "$ mkdir results\n",
    "```\n",
    "**Do it now:**"
   ]
  },
  {
   "cell_type": "code",
   "execution_count": null,
   "id": "ba8255f0",
   "metadata": {},
   "outputs": [],
   "source": []
  },
  {
   "cell_type": "markdown",
   "id": "560eae0a",
   "metadata": {},
   "source": [
    "## <font color='Purple'>2.2. *fastp* and *Kraken 2* directories</font>\n",
    "\n",
    "In the **results** directory we need to create **qc** (quality control) and **kraken2** (taxonominc assignment) directories.  \n",
    "\n",
    "These are for `fastp` and `kraken2` to output to respectively.  \n",
    "Use the following command to make the **qc** directory:\n",
    "\n",
    "```\n",
    "$ mkdir results/qc\n",
    "```\n",
    "\n",
    "**Note:** you did not have to change directory here to do it. The path to the directory is sufficient. Another unix command line skill learned :)\n",
    "\n",
    "**Run the required commands to create both the qc and kraken2 directories:**"
   ]
  },
  {
   "cell_type": "code",
   "execution_count": null,
   "id": "82667a51",
   "metadata": {},
   "outputs": [],
   "source": []
  },
  {
   "cell_type": "markdown",
   "id": "97a3a063",
   "metadata": {},
   "source": [
    "You should now have two directories: **qc** and **kraken2**, in your **results** directory. Use your command line skills to check:  \n",
    "*hint* `ls`"
   ]
  },
  {
   "cell_type": "code",
   "execution_count": null,
   "id": "17b470f7",
   "metadata": {},
   "outputs": [],
   "source": []
  },
  {
   "cell_type": "markdown",
   "id": "26f50afd",
   "metadata": {},
   "source": [
    "### <font color='Purple'>Important: Before continuing, check with a demonstrator that you have done this all correctly!<font>"
   ]
  },
  {
   "cell_type": "markdown",
   "id": "2557df5b",
   "metadata": {},
   "source": [
    "# <font color='Purple'>3. The bioinformatic analysis workflow</font>\n",
    "\n",
    "<hr>\n",
    "\n",
    "## <font color='Purple'>3.1. The fastq format</font>\n",
    "\n",
    "The data we have is in \"fastq\" format. This is kind of similar to \"fasta\" format, just another way to store genetic data.  \n",
    "However, fastq files hold more information - specifically for DNA sequencing quality.\n",
    "\n",
    "A fastq file has 4 lines per sequence:  \n",
    "1. Sequence name \n",
    "2. DNA sequence \n",
    "3. Spacer (\"+\")  \n",
    "4. Quality score \n",
    "\n",
    "For example:\n",
    "```\n",
    "@sequence_name\n",
    "GCGAACTTTGCTAGCGGCAAGGCGCTTACAGCAAGTCGAGCGAGGAC\n",
    "+\n",
    "%$%%$$$&''&&'((),,*%$%$#$%'''&&&'(((((-/////)((\n",
    "```\n",
    "\n",
    "For quality control the quality of each base is an important factor.  \n",
    "Base quality is given as a \"Q-Score\": a character-based code for the quality of the base.  \n",
    "Go to this link to see the actual values (look at the \"Symbol\" and \"Q-Score\" columns):\n",
    "\n",
    "https://support.illumina.com/help/BaseSpace_OLH_009008/Content/Source/Informatics/BS/QualityScoreEncoding_swBS.htm  \n",
    "\n",
    "Now you understand the format of the data you need to analyse, use your command line skills to look at the first 4 lines of the \"test_sample.fastq\" in the **data** directory:"
   ]
  },
  {
   "cell_type": "code",
   "execution_count": null,
   "id": "d5f2b75a",
   "metadata": {
    "scrolled": false
   },
   "outputs": [],
   "source": []
  },
  {
   "cell_type": "markdown",
   "id": "15435c3c",
   "metadata": {},
   "source": [
    "Does this look like the format you expected?  \n",
    "\n",
    "Discuss with the person next to you and check with a demonstrator."
   ]
  },
  {
   "cell_type": "markdown",
   "id": "9e67584b",
   "metadata": {},
   "source": [
    "## <font color='Purple'>3.2. Quality control of fastq data</font>\n",
    "We have the raw reads from the MinION sequencer but we need to know which reads to keep.  \n",
    "Which are of good enough quality to consider for further analysis?  \n",
    "\n",
    "We will use `fastp` to do this. We will also utilise `seqkit` to look at before and after quality control.  \n",
    "\n",
    "### <font color='Purple'>3.2.1. *SeqKit* to inspect raw fastq data</font>\n",
    "  \n",
    "Let's look at the vital statistics of the \"test_sample.fastq\" file using `seqkit` prior to quality control:"
   ]
  },
  {
   "cell_type": "code",
   "execution_count": null,
   "id": "bd6cd813",
   "metadata": {},
   "outputs": [],
   "source": [
    "seqkit stats data/test_sample.fastq"
   ]
  },
  {
   "cell_type": "markdown",
   "id": "6388c153",
   "metadata": {},
   "source": [
    "Can you describe exactly what the output is showing? Check with a demonstrator if you are unsure.\n",
    "\n",
    "### <font color='Purple'>3.2.2. *fastp* qc of raw sequencing data</font>\n",
    "\n",
    "OK, lets quality control the fastq data using `fastp`:"
   ]
  },
  {
   "cell_type": "code",
   "execution_count": null,
   "id": "c5a3ace8",
   "metadata": {},
   "outputs": [],
   "source": [
    "fastp \\\n",
    "    --disable_adapter_trimming \\\n",
    "    --in1 data/test_sample.fastq \\\n",
    "    --out1 results/qc/test_sample.qc.fastq \\\n",
    "    -j results/qc/test_sample.json \\\n",
    "    -h results/qc/test_sample.html \\\n",
    "    --qualified_quality_phred 7 \\\n",
    "    --unqualified_percent_limit 40 \\\n",
    "    --average_qual 7 \\\n",
    "    --length_required 1000 \\\n",
    "    --max_len1 1700"
   ]
  },
  {
   "cell_type": "markdown",
   "id": "e44c7647",
   "metadata": {},
   "source": [
    "There is a lot going on here. **Don't panic!**  \n",
    "\n",
    "`fastp` has a lot of functions and subsequently a lot of \"flags\".  \n",
    "It is a very powerful tool and well worth knowing how to use for quality control of sequencoing data!  \n",
    "\n",
    "Refer to the `fastp` docs to see what was just done:  \n",
    "\n",
    "https://github.com/OpenGene/fastp#readme  \n",
    "\n",
    "See if you can understand what the command above did. Check with a demonstrator if unsure.  \n"
   ]
  },
  {
   "cell_type": "markdown",
   "id": "e368ced1",
   "metadata": {},
   "source": [
    "\n",
    "### <font color='Purple'>3.2.3. *SeqKit* to inspect quality controlled fastq data</font>\n",
    "  \n",
    "Let's look at the vital statistics of the quality controlled fastq data we have just generated.  \n",
    "It is now in the **results/qc** directory as \"test_sample.qc.fastq\".  \n",
    "\n",
    "Shall we see what quality control did? `seqkit` to the rescue:"
   ]
  },
  {
   "cell_type": "code",
   "execution_count": null,
   "id": "b6022be7",
   "metadata": {},
   "outputs": [],
   "source": [
    "seqkit stats results/qc/test_sample.qc.fastq"
   ]
  },
  {
   "cell_type": "markdown",
   "id": "2f60a986",
   "metadata": {},
   "source": [
    "Compare the post quality control `seqkit` output to that of the `seqkit` output for the raw sequencing data.  \n",
    "\n",
    "Does this make sense as to what `fastp` has done?  \n",
    "\n",
    "Discuss with the person next to you or check with a demonstrator if unsure."
   ]
  },
  {
   "cell_type": "markdown",
   "id": "109d06a0",
   "metadata": {},
   "source": [
    "## <font color='Purple'>3.3. Taxonomic assignment with *Kraken 2*</font>\n",
    "The raw reads have been quality controlled with `fastp`. They are now considered of sufficient quality for taxonomic assignment.  \n",
    "\n",
    "`kraken2` is an ideal program to use for analysisng Oxford Nanopore Technologies' MinION sequencing data. It is a \"kmer\" based taxonomic assignment method. It is again an incredibly powerful tool worth knowing how to use correctly.  \n",
    "\n",
    "In your spare time, and if you are interested, read the supplied literature in the Genetic Analysis module's \"to read\" section for an insight as to what `kraken2` does. Google for further examples of kmer based methods to get a better overview of the approach.\n",
    "\n",
    "## <font color='Purple'>3.3.1. *Kraken 2* database</font>\n",
    "\n",
    "\n",
    "`kraken2` requires a database with which to perform it's analysis. This is supplied.  \n",
    "The database *is* the directory **bact_db**: a `kraken2` database specifically created for this example anlysis.  \n",
    "\n",
    "## <font color='Purple'>3.3.2. *Kraken 2* taxonomic assignment</font>\n",
    "\n",
    "Now we have a database and some quality controlled fastq data.  \n",
    "\n",
    "Unleash the Kraken 2:"
   ]
  },
  {
   "cell_type": "code",
   "execution_count": null,
   "id": "235c8303",
   "metadata": {},
   "outputs": [],
   "source": [
    "kraken2 \\\n",
    "    results/qc/test_sample.qc.fastq \\\n",
    "    --db bact_db \\\n",
    "    --report results/kraken2/test_sample.txt \\\n",
    "    --output results/kraken2/test_sample.krk \\\n",
    "    --minimum-base-quality 7 \\\n",
    "    --confidence 0.02"
   ]
  },
  {
   "cell_type": "markdown",
   "id": "48fa26e4",
   "metadata": {},
   "source": [
    "Again, here is a lot going on here. **Don't panic!**  \n",
    "\n",
    "The important bit is that it has done it's job. the terminal output should have shown something happen and a lot of text will have been produced. Have a look at this and see if you can make sense of it.  \n",
    "\n",
    "Check with a demonstrator if unsure.\n",
    "\n",
    "The **results/kraken2/reports** and **results/kraken2/outputs** should now have a file in each.\n",
    "\n",
    "**Explore them using you command line skills:**"
   ]
  },
  {
   "cell_type": "code",
   "execution_count": null,
   "id": "e04f3cc1",
   "metadata": {},
   "outputs": [],
   "source": []
  },
  {
   "cell_type": "markdown",
   "id": "5a091cd6",
   "metadata": {},
   "source": [
    "## <font color='Purple'>3.4. Formatting the outputs</font>\n",
    "\n",
    "`kraken2` has given us outputs but they are not easilly readable, nor are they ideal for downstream analysis with *R*, for example.  \n",
    "\n",
    "The next step is to modify these outputs to be in a format for our use.  \n",
    "\n",
    "To do this we will use a custom `python` script to transform the output.  \n",
    "`python` is it's own coding language, but we have a script (regardless of coding language) that forms an essential urpose. We shall now use it.  \n",
    "\n",
    "In the cell below we call the interpretter `python`, the path to the script and the required variables: `-i` and `-o`.\n",
    "\n",
    "Run the command below to execute the `python` script:"
   ]
  },
  {
   "cell_type": "code",
   "execution_count": null,
   "id": "a413e4a5",
   "metadata": {},
   "outputs": [],
   "source": [
    "python scripts/to_tsv.py -i results/kraken2/test_sample.txt -o results/test_sample.tsv"
   ]
  },
  {
   "cell_type": "markdown",
   "id": "8e5bf69d",
   "metadata": {},
   "source": [
    "Can you determin what it has done from the command?  \n",
    "\n",
    "For those who are really interested, look at the script itself, it is located in the **scripts** directory.  \n",
    "\n",
    "## <font color='Purple'>3.5. The final output</font>\n",
    "\n",
    "We have now generated an output that is suitable for our requirements.  \n",
    "\n",
    "Here we will use the `cat` command to view the whole file **results/test_sample.tsv**:"
   ]
  },
  {
   "cell_type": "code",
   "execution_count": null,
   "id": "5f83849a",
   "metadata": {},
   "outputs": [],
   "source": [
    "cat results/test_sample.tsv"
   ]
  },
  {
   "cell_type": "markdown",
   "id": "d2d86f4d",
   "metadata": {},
   "source": [
    "Is this a more approachable format for downstream analysis?  \n",
    "\n",
    "Discuss with the person next to you or with a demonstrator."
   ]
  },
  {
   "cell_type": "markdown",
   "id": "53df46dd",
   "metadata": {},
   "source": [
    "## <font color='Purple'>-- PAUSE --<font>\n",
    "\n",
    "You have just experinced the workflow for taxonomic assignment of sequencing data.  \n",
    "You have used `fastp` to quality control data and `kraken2` to taxonomically assign it.  \n",
    "Using the command line you have explored the data at different stages of analysis.\n",
    "\n",
    "### <font color='Purple'>**WELL DONE!**<font> \n",
    "\n",
    "# <font color='Purple'>4. Future reference<font>\n",
    "\n",
    "\n",
    "**Important:** Before you leave this jupyter notebook, use the internet browser menu to `print as PDF`. Ask a demonstrator if you need help.  \n",
    "\n",
    "This can then be kept as a reference for you in the future. Something to look back on.  \n",
    "    \n",
    "# <font color='Purple'>End of session<font>\n",
    "\n",
    "\n",
    "**You are now ready for the next session:**\n",
    "### <font color='Purple'>*R* analysis of sequencing data<font>"
   ]
  }
 ],
 "metadata": {
  "kernelspec": {
   "display_name": "Bash",
   "language": "bash",
   "name": "bash"
  },
  "language_info": {
   "codemirror_mode": "shell",
   "file_extension": ".sh",
   "mimetype": "text/x-sh",
   "name": "bash"
  }
 },
 "nbformat": 4,
 "nbformat_minor": 5
}
