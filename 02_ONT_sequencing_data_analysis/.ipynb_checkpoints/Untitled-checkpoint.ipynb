{
 "cells": [
  {
   "cell_type": "markdown",
   "id": "93ed2ac0",
   "metadata": {},
   "source": [
    "lets look at the first 4 lines of the fastq in the `data` directory:"
   ]
  },
  {
   "cell_type": "code",
   "execution_count": null,
   "id": "1fb10186",
   "metadata": {
    "scrolled": false
   },
   "outputs": [],
   "source": [
    "head -4 data/test_sample.fastq"
   ]
  },
  {
   "cell_type": "markdown",
   "id": "9e953f6a",
   "metadata": {},
   "source": [
    "Now lets make this look like a bioinformatics working directory.  \n",
    "We need to make a `results` directory where all the outputs from the anlysis go.  \n",
    "Do it now:"
   ]
  },
  {
   "cell_type": "code",
   "execution_count": null,
   "id": "800e7505",
   "metadata": {},
   "outputs": [],
   "source": [
    "mkdir results"
   ]
  },
  {
   "cell_type": "markdown",
   "id": "9ddb7fa7",
   "metadata": {},
   "source": [
    "Now we need to populate that with a `qc` (quality control) directory and a `kraken2` (taxonomic assignment) directory:"
   ]
  },
  {
   "cell_type": "code",
   "execution_count": null,
   "id": "47f3d9f6",
   "metadata": {},
   "outputs": [],
   "source": [
    "mkdir results/qc results/kraken2"
   ]
  },
  {
   "cell_type": "markdown",
   "id": "01db2c29",
   "metadata": {},
   "source": [
    "Nice that we can do that in a one-liner isn't it?  \n",
    "  \n",
    "Let's look at the vital statistics of the fastq file using `seqkit`:"
   ]
  },
  {
   "cell_type": "code",
   "execution_count": null,
   "id": "4f5894a4",
   "metadata": {},
   "outputs": [],
   "source": [
    "seqkit stats data/test_sample.fastq"
   ]
  },
  {
   "cell_type": "markdown",
   "id": "dcb1dae3",
   "metadata": {},
   "source": [
    "OK, lets qc the fastq using `fastp`:"
   ]
  },
  {
   "cell_type": "code",
   "execution_count": null,
   "id": "5efdfaf9",
   "metadata": {},
   "outputs": [],
   "source": [
    "fastp \\\n",
    "    --disable_adapter_trimming \\\n",
    "    --in1 data/test_sample.fastq \\\n",
    "    --out1 results/qc/test_sample.qc.fastq \\\n",
    "    -j results/qc/test_sample.json \\\n",
    "    -h results/qc/test_sample.html \\\n",
    "    --qualified_quality_phred 7 \\\n",
    "    --unqualified_percent_limit 40 \\\n",
    "    --average_qual 7 \\\n",
    "    --length_required 1000 \\\n",
    "    --max_len1 1700"
   ]
  },
  {
   "cell_type": "markdown",
   "id": "13472c3c",
   "metadata": {},
   "source": [
    "Shall we see what that did, `seqkit` to the rescue:"
   ]
  },
  {
   "cell_type": "code",
   "execution_count": null,
   "id": "31726b63",
   "metadata": {},
   "outputs": [],
   "source": [
    "seqkit stats results/qc/test_sample.qc.fastq"
   ]
  },
  {
   "cell_type": "markdown",
   "id": "17a1dfbd",
   "metadata": {},
   "source": [
    "Right, FUCK IT. Unleash the Kraken 2:"
   ]
  },
  {
   "cell_type": "code",
   "execution_count": null,
   "id": "3397e469",
   "metadata": {},
   "outputs": [],
   "source": [
    "kraken2 \\\n",
    "    results/qc/test_sample.qc.fastq \\\n",
    "    --db bact_db \\\n",
    "    --report results/kraken2/test_sample.txt \\\n",
    "    --output results/kraken2/test_sample.krk \\\n",
    "    --minimum-base-quality 7 \\\n",
    "    --confidence 0.02"
   ]
  },
  {
   "cell_type": "markdown",
   "id": "96de8c3d",
   "metadata": {},
   "source": [
    "Make it more human-readable with a custom python script located in the `scripts` directory:"
   ]
  },
  {
   "cell_type": "code",
   "execution_count": null,
   "id": "9cdd1e36",
   "metadata": {},
   "outputs": [],
   "source": [
    "python scripts/to_tsv.py -i results/kraken2/test_sample.txt -o results/test_sample.tsv"
   ]
  },
  {
   "cell_type": "code",
   "execution_count": null,
   "id": "bbcfa2c2",
   "metadata": {},
   "outputs": [],
   "source": []
  }
 ],
 "metadata": {
  "kernelspec": {
   "display_name": "Bash",
   "language": "bash",
   "name": "bash"
  },
  "language_info": {
   "codemirror_mode": "shell",
   "file_extension": ".sh",
   "mimetype": "text/x-sh",
   "name": "bash"
  }
 },
 "nbformat": 4,
 "nbformat_minor": 5
}
