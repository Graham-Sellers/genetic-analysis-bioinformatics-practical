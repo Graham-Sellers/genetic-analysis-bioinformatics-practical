{
 "cells": [
  {
   "cell_type": "markdown",
   "id": "1667a6a7",
   "metadata": {},
   "source": [
    "<hr>\n",
    "\n",
    "# <font color='Purple'>GENETIC ANALYSIS: INTRODUCTION TO THE UNIX COMMAND LINE</font>\n",
    "\n",
    "<hr>\n",
    "    \n",
    "Dr Graham S Sellers *g.sellers@hull.ac.uk*"
   ]
  },
  {
   "cell_type": "markdown",
   "id": "6954f6a5",
   "metadata": {},
   "source": [
    "![terminal](images/unix.png)"
   ]
  },
  {
   "cell_type": "markdown",
   "id": "bedadae2",
   "metadata": {},
   "source": [
    "# <font color='Purple'>Overview</font>\n",
    "\n",
    "This practical will introduce you to the unix command line and some of its basic utilities.  \n",
    "At the end of this practical session you will have experienced, and hopefully appreciate, the power and functionality of using the command line within a unix terminal and understand its wider applications to data management.  "
   ]
  },
  {
   "cell_type": "markdown",
   "id": "e47f8619",
   "metadata": {},
   "source": [
    "# <font color='Purple'>1. Introduction to the command line</font>\n",
    "\n",
    "<hr>\n",
    "\n",
    "Below we will give only a very simple overview of the basic utilities of the unix command line. The best way to learn the command line is to Google search for instructions and then try it yourself, experimenting as much as you can.  \n",
    "\n",
    "For this practical, we have embedded the unix command line into a Jupyter notebook so that you have both the instructions and the command line exercises together. A normal command line terminal would be a seperate window, but otherwise it is the same and all the commands you will use in this session are applicable.  \n",
    "\n",
    "In the instructions below we denote commands typed at the terminal with a `$` sign, whereas the output, the info returned by the terminal, has no dollar sign.\n",
    "```\n",
    "$ a typed command\n",
    "output\n",
    "``` \n",
    "\n",
    "\n",
    "**Important:** When you type out code presented like this, do not include the `$` sign. It will not work and return an error!  \n",
    "\n",
    "The actual terminal where commands are written and run for this practical are the grey cells (boxes) prefixed by [ ]:  \n",
    "Here is one:"
   ]
  },
  {
   "cell_type": "code",
   "execution_count": null,
   "id": "a17cc94b",
   "metadata": {},
   "outputs": [],
   "source": []
  },
  {
   "cell_type": "markdown",
   "id": "212f631d",
   "metadata": {},
   "source": [
    "You can run commands in a terminal cell by clicking in it, typing a command, and then Shift-Enter to run the command. You can also click the triangular `Run` button in the menu bar. Try it below, the 'hello world' `echo` command has been entered for you."
   ]
  },
  {
   "cell_type": "code",
   "execution_count": null,
   "id": "7ad00ee7",
   "metadata": {},
   "outputs": [],
   "source": [
    "echo 'Hello World!'"
   ]
  },
  {
   "cell_type": "markdown",
   "id": "48e68e34",
   "metadata": {},
   "source": [
    "You should see that the output 'Hello World!' has been printed direcly below the cell. We'll introduce the `echo` command later but you can probably already guess what it does."
   ]
  },
  {
   "cell_type": "markdown",
   "id": "fda2e384",
   "metadata": {},
   "source": [
    "# <font color='Purple'>2. Navigating the file system</font>\n",
    "\n",
    "<hr>\n",
    "\n",
    "The first thing to do is to learn the basics of moving between places on your computer, checking where you are, checking what files are present and having a quick look at them. Some of the terminology is perhaps slightly new (‘directories’ rather than ‘folders’) but using the right words will mean you are speaking the same language as everyone else and make your life easier when Googling for solutions.\n",
    "\n",
    "## <font color='Purple'>2.1 Checking where you are (`pwd`), listing contents (`ls`) and changing directories (`cd`)</font>\n",
    "\n",
    "### <font color='Purple'>2.1.1 Where am I? `pwd`</font>\n",
    "\n",
    "At the command line you need to know “where you are” i.e. which directory (folder) you have open and are working in, called the working directory. The command to find out where you are is `pwd` short for ‘print working directory’. NB: ‘print’ when working at the command line means ‘display on the screen’ rather than ‘write this to a piece of paper’.\n",
    "\n",
    "Type the command to print working directory `pwd` below, and hit Shift-Enter to run the command."
   ]
  },
  {
   "cell_type": "code",
   "execution_count": null,
   "id": "5fa6ee05",
   "metadata": {},
   "outputs": [],
   "source": []
  },
  {
   "cell_type": "markdown",
   "id": "ceb7e4d4",
   "metadata": {},
   "source": [
    "You should see something like this:\n",
    "\n",
    "    /01_introduction_to_unix_command_line  \n",
    "\n",
    "**Tip: if you want to try something and there isn't an empty terminal cell, use the menu bar `+` to \"Insert Cell\"**\n",
    "\n",
    "Try inserting a cell below and check your working directory again:"
   ]
  },
  {
   "cell_type": "markdown",
   "id": "bb0c9b25",
   "metadata": {},
   "source": [
    "OK, now wouldn't it be useful to know what folders and files are present in your current location?  \n",
    "### <font color='Purple'>2.1.2 Listing the contents of a directory with `ls`<font>\n",
    "A very common thing you will want to do is to display the contents of a directory, i.e. list all the files.\n",
    "\n",
    "You can list the files (and directories) in your working directory using the `ls` command. Try `ls` in the cell below:"
   ]
  },
  {
   "cell_type": "code",
   "execution_count": null,
   "id": "44b2ab14",
   "metadata": {},
   "outputs": [],
   "source": []
  },
  {
   "cell_type": "markdown",
   "id": "c1b039c2",
   "metadata": {},
   "source": [
    "You will see the files and directories in your current folder displayed by `ls`.  \n",
    "\n",
    "The jupyter notebook you are using will have the extension \".ipnb\". There some directories: **data** and **images**.  \n",
    "Directories are usually displayed in a different colour to files, to show that it is a directory not a file. Here they are blue.  \n",
    "\n",
    "### <font color='Purple'>2.1.3 Changing directory with `cd`<font>\n",
    "\n",
    "But maybe this isn’t where you want to be, maybe you need to have a look at your new data, in which case you need to `‘change directory’` and the command for that is `cd`.\n",
    "\n",
    "```\n",
    "$ cd data\n",
    "$ cd my_sequences\n",
    "$ pwd\n",
    "\n",
    "/01_introduction_to_unix_command_line/data/my_sequences\n",
    "```\n",
    "\n",
    "**Try navigating down to the `my_sequences` folder:**  \n",
    "Remember you can add extra cells, and use `pwd` and `ls` to help you."
   ]
  },
  {
   "cell_type": "code",
   "execution_count": null,
   "id": "cc64903f",
   "metadata": {},
   "outputs": [],
   "source": []
  },
  {
   "cell_type": "markdown",
   "id": "81598268",
   "metadata": {},
   "source": [
    "You can see that the `/` symbol denotes levels of directories, so that the ‘my_sequences’ directory is contained within the ‘data’ directory which is within the user's 'home' directory, and ultimately in the system’s ‘home’ directory. \n",
    "\n",
    "These **file paths** can sometimes be long but they are always explicit, which is a very good thing for reproducibility. There is no excuse for failing to remember where the data was stored for your analysis, here it is written out, and in the real world you will want to record this as part of your experiment. \n",
    "\n",
    "You can go up one level (to '**data**') by using double dots (ensure there is always a space between the `cd` command and the directory you wish to go to).\n",
    "```\n",
    "$ cd ..\n",
    "$ pwd\n",
    "\n",
    "/01_introduction_to_unix_command_line/data/\n",
    "```\n",
    "\n",
    "**Try it for yourself:**"
   ]
  },
  {
   "cell_type": "code",
   "execution_count": null,
   "id": "faa232aa",
   "metadata": {},
   "outputs": [],
   "source": []
  },
  {
   "cell_type": "markdown",
   "id": "ee008cf5",
   "metadata": {},
   "source": [
    "What happens if you use the `cd` command without telling the system where you would like to change directories to?  \n",
    "Try it. How can you find out which directory you are now in?"
   ]
  },
  {
   "cell_type": "code",
   "execution_count": null,
   "id": "fffc6bef",
   "metadata": {},
   "outputs": [],
   "source": []
  },
  {
   "cell_type": "markdown",
   "id": "13cca26a",
   "metadata": {},
   "source": [
    "Using `cd` command on its own returns you to your **user’s home directory**, in this case `/username` from wherever you are. NB it is **your** home directory. **your home directory** is an important concept. In the example below *username* means your username, whatever it is.\n",
    "\n",
    "The tilde symbol (`~`) is shorthand for your home directory so `username/01_introduction_to_unix_command_line` and `~/01_introduction_to_unix_command_line` refer to the same directory, which saves a little typing. \n",
    "\n",
    "Another very useful shortcut is `cd -` (dash) which takes you to the previous directory that you were in. This is really useful when you need to swap between directories that are separated by several levels or that have long names.  \n",
    "\n",
    "**Try it for yourself:**"
   ]
  },
  {
   "cell_type": "code",
   "execution_count": null,
   "id": "5580aa8a",
   "metadata": {},
   "outputs": [],
   "source": []
  },
  {
   "cell_type": "markdown",
   "id": "ce746992",
   "metadata": {},
   "source": [
    "### <font color='Purple'>2.1.4 tab completion saves time and errors<font>\n",
    "\n",
    "You are probably slightly annoyed now that you have to type in all these directory names, which are long and complex. If you make one typo it will result in an error. Real bioinformaticians make use of the tab key a lot. tab will suggest completions of your file path.\n",
    "\n",
    "If I am in the home directory and I type `$ cd da<tab>` it will autocomplete to `$ cd data`.\n",
    "\n",
    "Because of the way this Jupyter notebook is set up it may instead give you a list of options, you can navigate using the arrow keys, and hit RETURN when you have the right option.\n",
    "\n",
    "This saves a LOT of typing and prevents errors.  \n",
    "\n",
    "**Insert a cell below and try it now:**"
   ]
  },
  {
   "cell_type": "code",
   "execution_count": null,
   "id": "e748d68d",
   "metadata": {},
   "outputs": [],
   "source": []
  },
  {
   "cell_type": "markdown",
   "id": "e80d357f",
   "metadata": {},
   "source": [
    "### <font color='Purple'>2.1.5 Chaining commands together with a semicolon<font>\n",
    "Above we we're issuing commands one at a time; first `cd` then `pwd`. To chain commands together on the same line separate them with a semicolon ie `cd;pwd`.\n",
    "\n",
    "Try moving around some directories, printing where you are and listing the contents.\n",
    "\n",
    "Do this by chaining together some `cd`, `pwd` and `ls` commands. \n",
    "\n",
    "Are you tab completing the addresses?"
   ]
  },
  {
   "cell_type": "code",
   "execution_count": null,
   "id": "3b06cc21",
   "metadata": {},
   "outputs": [],
   "source": []
  },
  {
   "cell_type": "markdown",
   "id": "f76022a6",
   "metadata": {},
   "source": [
    "### <font color='Purple'>2.1.5 Summary<font>\n",
    "```\n",
    "pwd\tprint working directory, show where you are\n",
    "ls\tlist, show all the files in your current directory\n",
    "cd\tchange directory, move to another location\n",
    ";\tsemicolons can chain together commands on one line\n",
    "```\n",
    "\n",
    "Test yourself, demonstrate that you can do something using each of these"
   ]
  },
  {
   "cell_type": "code",
   "execution_count": null,
   "id": "71c4771f",
   "metadata": {},
   "outputs": [],
   "source": []
  },
  {
   "cell_type": "markdown",
   "id": "f4013dfa",
   "metadata": {},
   "source": [
    "# <font color='Purple'>3 Inspecting file contents, and searching within text files<font>\n",
    "\n",
    "## <font color='Purple'>3.1 Inspecting files<font>\n",
    "\n",
    "Much of bioinformatics is the inspection and retrieval of information from text files. This data is the source of all subsequent analyses and we need to make sure it is the right data in the right format.\n",
    "\n",
    "If we  want to inspect a file we can display its contents using several unix programs:\n",
    "```\n",
    "cat  \tto print the whole file to the screen\n",
    "head \tto print the first few lines of the file on screen\n",
    "tail \tto print the last few lines of the file on screen\n",
    "```\n",
    "One of the problems with DNA sequence files is that they can be large - several hundred megabytes to a few gigabytes is not uncommon. Viewing these files can be difficult, as the files need to be loaded into memory, and can therefore take a great deal of time for the text editor to read from the disk. The `head` and `tail` commands are very efficient for viewing large files such as these. \n",
    "\n",
    "Remember Googling things is encouraged, it is a great way to learn bioinformatics! Google `head` and `tail` to learn more about them if you wish. Both `head` and `tail` display 10 lines by defualt, but they allow you to specify the number of lines to display, so `head -20` would display the first 20 lines and `tail -5` the last 5 lines.\n",
    "\n",
    "Remembering tab completion, navigate to the directory `/data/my_sequences`. Tip; when navigating use `ls` to see what is available.  \n",
    "\n",
    "Use `head`, `tail` and `cat` on some files.\n",
    "    \n",
    "**Try it now:**"
   ]
  },
  {
   "cell_type": "code",
   "execution_count": null,
   "id": "438df037",
   "metadata": {},
   "outputs": [],
   "source": []
  },
  {
   "cell_type": "markdown",
   "id": "27f4ddea",
   "metadata": {},
   "source": [
    "The files you have inspected are small and easily readable with the  `head`, `tail` and `cat` commands.  \n",
    "Some files can be extremely large and using `cat` may take a long time or even crash the system - not good!\n",
    "\n",
    "If you are unsure about the size of a file `head` is a good way to have a look at it.  \n",
    "\n",
    "However, if you actually want to know how big a file is you can display this with a version of the `ls` command `ls -lh`. It can be used on files or directories, it is a very useful command.  \n",
    "\n",
    "**Try it:**"
   ]
  },
  {
   "cell_type": "code",
   "execution_count": null,
   "id": "7526a892",
   "metadata": {},
   "outputs": [],
   "source": []
  },
  {
   "cell_type": "markdown",
   "id": "ce63ca23",
   "metadata": {},
   "source": [
    "All the commands above will be very useful for basic bioinformatics work, they are key skills."
   ]
  },
  {
   "cell_type": "markdown",
   "id": "03df31db",
   "metadata": {},
   "source": [
    "## <font color='Purple'>3.2 Searching within files<font>\n",
    "Searching within very large files however can also be problematic, especially using the standard 'find' functions in a text editor, which aren’t optimised for performing searches across very large files. For this reason various tools have been created that allow users to search within large files from the command line, and are highly optimised for their function. One of the most useful utilities for searching within a file is `grep` (global regular expression parser).\n",
    "\n",
    "`grep` is very simple to use. At the command line you will need to type the word `grep`, followed by the text you are searching for, followed by where (the filename) to look for it. For example, to search for the word Fungi in our 18S_seqs.fas file we do the following:\n",
    "```\n",
    "$ cd data/my_sequences/\n",
    "$ grep 'Bos' UK_vertebrates.fasta\n",
    ">AB074962.1 9913 Bos taurus\n",
    "```\n",
    "\n",
    "This returns the text `>AB074962.1 9913 Bos taurus` which is the single line that contains the word Bos. This is the output of `grep`, the line on which the search phrase is found.\n",
    "\n",
    "Make sure that you are trying this for yourself, by inserting cells and giving the command\n",
    "\n",
    "We can confirm that there is only 1 instance by using the **count flag** (`-c`) with `grep` as follows:\n",
    "```\n",
    "$ grep -c 'Bos' UK_vertebrates.fasta\n",
    "1\n",
    "```\n",
    "\n",
    "(Flags are useful things, they allow the default behaviour of a command to be refined. You have already used one (-lh) with the `ls` command to make it show you files sizes.)"
   ]
  },
  {
   "cell_type": "markdown",
   "id": "bdd27085",
   "metadata": {},
   "source": [
    "### <font color='Purple'>3.2.1 How many sequences do I have?<font>\n",
    "A very common question is to ask is ‘how many DNA sequence records are in this fasta file?’  \n",
    "\n",
    "A fasta format file shows a sequence over two lines. The first line is the sequence name, the second is the actual DNA sequence (the important ATCG bit).  \n",
    "For example:  \n",
    "```\n",
    ">ACC01.1 a_sequence\n",
    "CGACCTTATTATCAGCTTTAACTCAA\n",
    "```\n",
    "You will notice the sequence name always starts with `>`.  \n",
    "\n",
    "**Now try to see if the sequence file 'UK_vertebrates.fasta' matches your expectations. You already have the skills to do this without loading the whole file into memory, can you remember how? Check above if not.**\n",
    "\n",
    "In order to find out the number of sequences you could of course search for all the greater than `>` symbols, which is almost certainly the number of records. However, you should really search for all the lines *starting with* `>` rather than the number of times it occurs, as it is possible for a fasta header to contain an internal `>`. ‘Line starts with’ is represented by the `^` symbol.  \n",
    "\n",
    "Design a `grep` search to count the number of fasta header lines. Do not copy/paste from any web resource. Discuss your solution with the person next to you or check with a demonstrator.  \n",
    "\n",
    "**Here's a cell to try it in:**"
   ]
  },
  {
   "cell_type": "code",
   "execution_count": null,
   "id": "03a786e6",
   "metadata": {},
   "outputs": [],
   "source": []
  },
  {
   "cell_type": "markdown",
   "id": "5322cc4e",
   "metadata": {},
   "source": [
    "## <font color='Purple'>3.3 Summary<font>\n",
    "```\n",
    "head\tshow the first few lines of a file\n",
    "tail\tshow the last few lines of a file\n",
    "cat \tprint the whole file to the screen\n",
    "grep\tsearch, the -c flag counts the matches\n",
    "```\n",
    "\n",
    "## <font color='Purple'>-- PAUSE --<font>\n",
    "\n",
    "You have just learnt some basic unix command line utilities and programs. Well done!  \n",
    "\n",
    "There are still many, many more things that can be done that we have not covered in this session.  \n",
    "\n",
    "For example:  \n",
    "* using wildcards  \n",
    "* copying and moving files  \n",
    "* writing to a file  \n",
    "* appending to a file  \n",
    "* making a directory  \n",
    "\n",
    "As I have said, so many topics...\n",
    "\n",
    "Learning how to do them is as simple as Googling them.  \n",
    "\n",
    "### <font color='Purple'>**Googling is OK! It is encouraged!**<font> \n",
    "\n",
    "The internet is a source of knowledge. It is mined by those eager to learn.  \n",
    "It is how all bioinformaticians develop and progress.  \n",
    "There is no simple handbook, there are so many different ways to achieve the same result.  \n",
    "\n",
    "Finding your favourite method is part of becoming the bioinformatician in you (*cheesey I know lol!*).  \n",
    "As you learn you will develop your own \"style\" as it were."
   ]
  },
  {
   "cell_type": "markdown",
   "id": "721d3474",
   "metadata": {},
   "source": [
    "# <font color='Purple'>4. Future reference<font>\n",
    "\n",
    "\n",
    "**Important:** Before you leave this jupyter notebook, use the internet browser menu to `print as PDF`. Ask a demonstrator if you need help.  \n",
    "\n",
    "This can then be kept as a reference for you in the future. Something to look back on."
   ]
  },
  {
   "cell_type": "markdown",
   "id": "78ab9281",
   "metadata": {},
   "source": [
    "# <font color='Purple'>End of session<font>\n",
    "   \n",
    "\n",
    "**You have now learnt sufficient command line skills for the next session:**\n",
    "### <font color='Purple'>ONT sequencing data analysis<font>"
   ]
  }
 ],
 "metadata": {
  "kernelspec": {
   "display_name": "Bash",
   "language": "bash",
   "name": "bash"
  },
  "language_info": {
   "codemirror_mode": "shell",
   "file_extension": ".sh",
   "mimetype": "text/x-sh",
   "name": "bash"
  }
 },
 "nbformat": 4,
 "nbformat_minor": 5
}
