{
 "cells": [
  {
   "cell_type": "code",
   "execution_count": null,
   "id": "972e28b1",
   "metadata": {},
   "outputs": [],
   "source": [
    "# conda activate genetic_analysis"
   ]
  },
  {
   "cell_type": "markdown",
   "id": "a81d9744",
   "metadata": {},
   "source": [
    "lets look at the first 4 lines of the fastq in the `data` directory:"
   ]
  },
  {
   "cell_type": "code",
   "execution_count": null,
   "id": "fd745a0f",
   "metadata": {
    "scrolled": false
   },
   "outputs": [],
   "source": [
    "head -4 data/test_sample.fastq"
   ]
  },
  {
   "cell_type": "markdown",
   "id": "87619b21",
   "metadata": {},
   "source": [
    "Now lets make this look like a bioinformatics working directory.  \n",
    "We need to make a `results` directory where all the outputs from the anlysis go.  \n",
    "Do it now:"
   ]
  },
  {
   "cell_type": "code",
   "execution_count": null,
   "id": "4cbeccaa",
   "metadata": {},
   "outputs": [],
   "source": [
    "mkdir results"
   ]
  },
  {
   "cell_type": "markdown",
   "id": "0eb50acc",
   "metadata": {},
   "source": [
    "Now we need to populate that with a `qc` (quality control) directory and a `kraken2` (taxonomic assignment) directory:"
   ]
  },
  {
   "cell_type": "code",
   "execution_count": null,
   "id": "186e464d",
   "metadata": {},
   "outputs": [],
   "source": [
    "mkdir results/qc results/kraken2"
   ]
  },
  {
   "cell_type": "markdown",
   "id": "9a44e408",
   "metadata": {},
   "source": [
    "Nice that we can do that in a one-liner isn't it?  \n",
    "  \n",
    "Let's look at the vital statistics of the fastq file using `seqkit`:"
   ]
  },
  {
   "cell_type": "code",
   "execution_count": null,
   "id": "9c3311f1",
   "metadata": {},
   "outputs": [],
   "source": [
    "seqkit stats data/test_sample.fastq"
   ]
  },
  {
   "cell_type": "markdown",
   "id": "a368bba3",
   "metadata": {},
   "source": [
    "OK, lets qc the fastq using `fastp`:"
   ]
  },
  {
   "cell_type": "code",
   "execution_count": null,
   "id": "023d349d",
   "metadata": {},
   "outputs": [],
   "source": [
    "fastp \\\n",
    "    --disable_adapter_trimming \\\n",
    "    --in1 data/test_sample.fastq \\\n",
    "    --out1 results/qc/test_sample.qc.fastq \\\n",
    "    -j results/qc/test_sample.json \\\n",
    "    -h results/qc/test_sample.html \\\n",
    "    --qualified_quality_phred 7 \\\n",
    "    --unqualified_percent_limit 40 \\\n",
    "    --average_qual 7 \\\n",
    "    --length_required 1000 \\\n",
    "    --max_len1 1700"
   ]
  },
  {
   "cell_type": "markdown",
   "id": "5f81f58f",
   "metadata": {},
   "source": [
    "Shall we see what that did, `seqkit` to the rescue:"
   ]
  },
  {
   "cell_type": "code",
   "execution_count": null,
   "id": "69df4f30",
   "metadata": {},
   "outputs": [],
   "source": [
    "seqkit stats results/qc/test_sample.qc.fastq"
   ]
  },
  {
   "cell_type": "markdown",
   "id": "6ff24789",
   "metadata": {},
   "source": [
    "Right, FUCK IT. Unleash the Kraken 2:"
   ]
  },
  {
   "cell_type": "code",
   "execution_count": null,
   "id": "49e2608e",
   "metadata": {},
   "outputs": [],
   "source": [
    "kraken2 \\\n",
    "    results/qc/test_sample.qc.fastq \\\n",
    "    --db bact_db \\\n",
    "    --report results/kraken2/test_sample.txt \\\n",
    "    --output results/kraken2/test_sample.krk \\\n",
    "    --minimum-base-quality 7 \\\n",
    "    --confidence 0.02"
   ]
  },
  {
   "cell_type": "markdown",
   "id": "f9dde305",
   "metadata": {},
   "source": [
    "Make it more human-readable with a custom python script located in the `scripts` directory:"
   ]
  },
  {
   "cell_type": "code",
   "execution_count": null,
   "id": "4e9d13da",
   "metadata": {},
   "outputs": [],
   "source": [
    "python scripts/to_tsv.py -i results/kraken2/test_sample.txt -o results/test_sample.tsv"
   ]
  },
  {
   "cell_type": "code",
   "execution_count": null,
   "id": "d80b3a9d",
   "metadata": {},
   "outputs": [],
   "source": []
  }
 ],
 "metadata": {
  "kernelspec": {
   "display_name": "Bash",
   "language": "bash",
   "name": "bash"
  },
  "language_info": {
   "codemirror_mode": "shell",
   "file_extension": ".sh",
   "mimetype": "text/x-sh",
   "name": "bash"
  }
 },
 "nbformat": 4,
 "nbformat_minor": 5
}
