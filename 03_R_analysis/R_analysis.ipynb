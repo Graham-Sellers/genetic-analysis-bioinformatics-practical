{
 "cells": [
  {
   "cell_type": "markdown",
   "id": "73ed48ba",
   "metadata": {},
   "source": [
    "<hr>\n",
    "\n",
    "# <font color='Purple'>GENETIC ANALYSIS: *R* ANALYSIS OF SEQUENCING DATA</font>\n",
    "\n",
    "<hr>\n",
    "    \n",
    "Dr Graham S Sellers *g.sellers@hull.ac.uk*"
   ]
  },
  {
   "cell_type": "markdown",
   "id": "5d7a3d64",
   "metadata": {},
   "source": [
    "![image](./images/R.png)"
   ]
  },
  {
   "cell_type": "markdown",
   "id": "9fb31fd9",
   "metadata": {},
   "source": [
    "# <font color='Purple'>1. Data</font>\n",
    "\n",
    "<hr>\n",
    "\n",
    "*R* is widely used for data analysis. So it is no surprise that we must know how to deal with data when using it.  \n",
    "  \n",
    "\n",
    "**Important**: We will use a test dataset initially. It is DNA metabarcoding sequencing data in the same data output format as you will have for your sequencing data. Columns are samples, rows are \"species\". Each entry in the dataframe is the number of sequenced reads per \"species\".  \n",
    "\n",
    "Data discussed, lets get on with it!  \n",
    "## <font color='Purple'>1.1. Reading data into R</font>\n",
    "\n",
    "Data can be read into *R* in different ways. Here we will use the normal method for the kind of input data we have.  \n",
    "Our data is a tab-delimited (.tsv) output from the taxonomic assignment of the sequencing data generated from the lab practical.  \n",
    "You may remember the layout of the data in this format as we created an example of it in the last bioinformatics session.  \n",
    "\n",
    "First, lets make a dataframe object called \"*test_data*\" from the `test_data.tsv` located in the `data/` directory:\n"
   ]
  },
  {
   "cell_type": "code",
   "execution_count": null,
   "id": "0a347d47",
   "metadata": {},
   "outputs": [],
   "source": [
    "test_data = read.csv('data/test_data.tsv', sep = '\\t', header = T, row.names = 1)"
   ]
  },
  {
   "cell_type": "markdown",
   "id": "06adc8f5",
   "metadata": {},
   "source": [
    "A short description of what we just did there:  \n",
    "\n",
    "`test_data =` creates a data object (a dataframe in our case) called \"*test_data*\" which we can recall  \n",
    "We used the `read.csv()` function to read in a data file  \n",
    "`'/data/test_data.tsv'` is the path to the file we wish to read in  \n",
    "`sep = '\\t'` makes `read.csv()` read \"*test_data.tsv*\" as a tab-delimited file (.tsv) (i.e < TAB > between columns)  \n",
    "`header = T` means use the first row of the data as the column headers for the dataframe (logical: T (TRUE) or F (FALSE))  \n",
    "`row.names = 1` uses the first column (column 1) as the rownames of the dataframe  \n",
    "\n",
    "OK, we loaded in some data, now what?"
   ]
  },
  {
   "cell_type": "markdown",
   "id": "2f396ac8",
   "metadata": {},
   "source": [
    "## <font color='Purple'>1.2. Exploring the data</font>\n",
    "We have a data object, we'll explore it a bit with *R*'s basic functions.  \n",
    "\n",
    "First, let's recall the data object, our dataframe:"
   ]
  },
  {
   "cell_type": "code",
   "execution_count": null,
   "id": "ab0fc3ff",
   "metadata": {},
   "outputs": [],
   "source": [
    "test_data"
   ]
  },
  {
   "cell_type": "markdown",
   "id": "dc1d20db",
   "metadata": {},
   "source": [
    "That's a bit too much to look at!  \n",
    "\n",
    "So, let's just look at the top rows of the data using the `head()` function:"
   ]
  },
  {
   "cell_type": "code",
   "execution_count": null,
   "id": "d4284ace",
   "metadata": {},
   "outputs": [],
   "source": [
    "head(test_data)"
   ]
  },
  {
   "cell_type": "markdown",
   "id": "d802fe35",
   "metadata": {},
   "source": [
    "...and now the last rows with the `tail()` function:"
   ]
  },
  {
   "cell_type": "code",
   "execution_count": null,
   "id": "7ad48e6a",
   "metadata": {},
   "outputs": [],
   "source": [
    "tail(test_data)"
   ]
  },
  {
   "cell_type": "markdown",
   "id": "e2ca215a",
   "metadata": {},
   "source": [
    "Now look at the column names of the dataframe using the `colnames()` function:\n"
   ]
  },
  {
   "cell_type": "code",
   "execution_count": null,
   "id": "4e88c47f",
   "metadata": {},
   "outputs": [],
   "source": [
    "colnames(test_data)"
   ]
  },
  {
   "cell_type": "markdown",
   "id": "9cb842f0",
   "metadata": {},
   "source": [
    "You can also use the `names()` function:\n"
   ]
  },
  {
   "cell_type": "code",
   "execution_count": null,
   "id": "028e9e84",
   "metadata": {},
   "outputs": [],
   "source": [
    "names(test_data)"
   ]
  },
  {
   "cell_type": "markdown",
   "id": "0a975ebc",
   "metadata": {},
   "source": [
    "Now the row names with `rownames()`:\n"
   ]
  },
  {
   "cell_type": "code",
   "execution_count": null,
   "id": "dde14788",
   "metadata": {},
   "outputs": [],
   "source": [
    "rownames(test_data)"
   ]
  },
  {
   "cell_type": "markdown",
   "id": "715146f5",
   "metadata": {},
   "source": [
    "Right then, we know that columns are samples and rows are species.  \n",
    "\n",
    "To be exact it really isn't species, it is OTUs (Operational Taxonomic Units) as some assignments are higher than species (i.e genus etc.). OTU is the better way to describe taxonomic assignment, unless you focus purposefully on the species level.  \n",
    "\n",
    "The last column of the dataframe gives the taxonomic lineage of each OTU.  \n",
    "\n",
    "OK, pedantry aside, let's continue...  \n",
    "\n",
    "How large is our dataframe? let's use the dim() function to get it's dimensions:"
   ]
  },
  {
   "cell_type": "code",
   "execution_count": null,
   "id": "18590734",
   "metadata": {},
   "outputs": [],
   "source": [
    "dim(test_data)"
   ]
  },
  {
   "cell_type": "markdown",
   "id": "6f74e2cd",
   "metadata": {},
   "source": [
    "Our test data is 54 rows by 6 columns (first value is rows, second is columns for the `dim()` output).  \n",
    "Taxonomic lineages (*taxonomy*) forms the final (6th) column.  \n",
    "\n",
    "Instead of using dim you can return just the number of columns with `ncol()` or rows with `nrow()`:"
   ]
  },
  {
   "cell_type": "code",
   "execution_count": null,
   "id": "91c78fe9",
   "metadata": {},
   "outputs": [],
   "source": [
    "ncol(test_data)\n",
    "nrow(test_data)"
   ]
  },
  {
   "cell_type": "markdown",
   "id": "dc2bc55a",
   "metadata": {},
   "source": [
    "## <font color='Purple'>1.3. Viewing columns of the data</font>\n",
    "A column can be isolated from the dataframe and viewed by specifying the column name.  \n",
    "We can find column names using `colnames()` or `names()` (see above).  \n",
    "\n",
    "Look at an individual column of the dataframe like this:"
   ]
  },
  {
   "cell_type": "code",
   "execution_count": null,
   "id": "ee930b5a",
   "metadata": {},
   "outputs": [],
   "source": [
    "test_data$OP01"
   ]
  },
  {
   "cell_type": "markdown",
   "id": "d0e928a1",
   "metadata": {},
   "source": [
    "This shows a list of the values in that specific column."
   ]
  },
  {
   "cell_type": "markdown",
   "id": "172e51b6",
   "metadata": {},
   "source": [
    "# <font color='Purple'>2. Data manipulation</font>\n",
    "\n",
    "<hr>\n",
    "\n",
    "You now know how to read in some data as a dataframe and look at it's structure. That is an important basic skill for any form of *R* analysis.  \n",
    "\n",
    "The dataframe is loaded into *R*, it has been explored, but now what to do with it?  \n",
    "\n",
    "We need to manipulate it. By this I mean to look at subsets of interest to us, i.e. pull out the bits we want.  \n",
    "In this section we will look at different methods to do just this. The ways that we can organise our dataframe to better suit our needs.\n",
    "## <font color='Purple'>2.1. Dataframe indexing</font>\n",
    "\n",
    "Indexing is a very powerful method that can be used in multiple ways in *R*.  \n",
    "Indexing uses the values within a set of square brackets (`[` `]`) to isolate rows or columns from a dataframe.  \n",
    "It can be very abstract to get your head around to begin with, but it is a method worth understanding.  \n",
    "It will be important in the final stages of the *R* analysis of the sequencing data generated in the laboratory sessions.   \n",
    "\n",
    "\n",
    "We have \"*test_data*\", lets look at the first column of it:\n"
   ]
  },
  {
   "cell_type": "code",
   "execution_count": null,
   "id": "b5b27aa9",
   "metadata": {},
   "outputs": [],
   "source": [
    "test_data[,1]"
   ]
  },
  {
   "cell_type": "markdown",
   "id": "7f09748a",
   "metadata": {},
   "source": [
    "...now the first row:"
   ]
  },
  {
   "cell_type": "code",
   "execution_count": null,
   "id": "40a4e099",
   "metadata": {},
   "outputs": [],
   "source": [
    "test_data[1,]"
   ]
  },
  {
   "cell_type": "markdown",
   "id": "fb8a300e",
   "metadata": {},
   "source": [
    "The position of the comma changes which we look at, columns or rows.  \n",
    "\n",
    "Columns 1 to 4:"
   ]
  },
  {
   "cell_type": "code",
   "execution_count": null,
   "id": "ae809d54",
   "metadata": {},
   "outputs": [],
   "source": [
    "test_data[,1:4]"
   ]
  },
  {
   "cell_type": "markdown",
   "id": "85e5ff51",
   "metadata": {},
   "source": [
    "Rows 1 to 4:"
   ]
  },
  {
   "cell_type": "code",
   "execution_count": null,
   "id": "31f031b1",
   "metadata": {},
   "outputs": [],
   "source": [
    "test_data[1:4,]"
   ]
  },
  {
   "cell_type": "markdown",
   "id": "4b66455c",
   "metadata": {},
   "source": [
    "Columns 1 to 4 and rows 3 to 6:"
   ]
  },
  {
   "cell_type": "code",
   "execution_count": null,
   "id": "abd74eaf",
   "metadata": {},
   "outputs": [],
   "source": [
    "test_data[1:4, 3:6]"
   ]
  },
  {
   "cell_type": "markdown",
   "id": "f04fe38f",
   "metadata": {},
   "source": [
    "To put this into context: rows are before the comma, columns after.  \n",
    "Use the `dim()`, `ncol()` or `nrow()` functions to check how many columns and rows you have if needed (see above).  \n",
    "## <font color='Purple'>2.2. Subset by indexing</font>\n",
    "Suppose we need to have the \"*test_data*\" dataframe without the taxonomy column?  \n",
    "Using dataframe indexing, in combination with the `ncol()` function (see above), we will look at the whole dataframe excluding the taxonomy column.  \n",
    "As \"*taxonomy*\" is the last column of our dataframe, `ncol(test_data)-1` will give the positional value of the second to last column.  \n",
    "\n",
    "We can now grab column 1 to the second to last column:"
   ]
  },
  {
   "cell_type": "code",
   "execution_count": null,
   "id": "33ace463",
   "metadata": {},
   "outputs": [],
   "source": [
    "test_data[,1:ncol(test_data)-1]"
   ]
  },
  {
   "cell_type": "markdown",
   "id": "e2272892",
   "metadata": {},
   "source": [
    "Oh look! No taxonomy column! Excellent!  \n",
    "\n",
    "Using this we can get numeric values from our dataframe.  \n",
    "The taxonomy column is strings - letters or words, not numeric values.  \n",
    "\n",
    "Suppose we need to get the sum all rows or columns of the dataframe? Having a string in a row will not work - it requires purely numeric values!  \n",
    "Removing the taxonomy column will achieve this perfectly!  \n",
    "\n",
    "Our \"*test_data*\" frame has samples as columns. So let's calculate the total sequencing reads of each sample by summing all values in each column using the `colSums()` function:"
   ]
  },
  {
   "cell_type": "code",
   "execution_count": null,
   "id": "8a6e53af",
   "metadata": {},
   "outputs": [],
   "source": [
    "colSums(test_data[,1:ncol(test_data)-1])"
   ]
  },
  {
   "cell_type": "markdown",
   "id": "491a5669",
   "metadata": {},
   "source": [
    "This is just what we were after. Nice.  \n",
    "\n",
    "If we would have done the following it would give an Error message as there is still the taxonomy column:"
   ]
  },
  {
   "cell_type": "code",
   "execution_count": null,
   "id": "f8c6d37c",
   "metadata": {},
   "outputs": [],
   "source": [
    "colSums(test_data)"
   ]
  },
  {
   "cell_type": "markdown",
   "id": "a548b4e7",
   "metadata": {},
   "source": [
    "What happens if the thing we want to exclude is somewhere else in the dataframe?  \n",
    "The only way we can access this is via explicitic column name exclusiion.  \n",
    "\n",
    "Columns or many things can be called by a matching string (i.e. letter or words).  \n",
    "\n",
    "Lets try this:"
   ]
  },
  {
   "cell_type": "code",
   "execution_count": null,
   "id": "569352da",
   "metadata": {},
   "outputs": [],
   "source": [
    "test_data[,!colnames(test_data) %in% \"taxonomy\"]"
   ]
  },
  {
   "cell_type": "markdown",
   "id": "98369661",
   "metadata": {},
   "source": [
    "Look at the code above. Consider the indexing and what is happening.  \n",
    "\n",
    "\n",
    "By using `!` we have just said \"*don't include*\" column names matching, `%in%`, \"*taxonomy*\".  \n",
    "Combine this with the indexing we learnt above and it is again a powerful tool for data manipulation.  \n",
    "This is a very useful thing to know. Maybe a dataframe can be complicated or even need to exclude certain columns explicitly by name. A point to consider.  \n",
    "\n",
    "Lets remember this as \"indexing by `%in%`\" - we'll use this later."
   ]
  },
  {
   "cell_type": "markdown",
   "id": "acc7263f",
   "metadata": {},
   "source": [
    "## <font color='Purple'>2.3. Playing with numbers</font>\n",
    "If a dataframe is entirely numeric (like \"*test_data*\" without the \"*taxonomy*\" column) then there are a multitude of mathmatics we can do to it.  \n",
    "\n",
    "Lets use indexing to crop the dataframe to pure numeric values (we know this because it is not including \"*taxonomy*\").  \n",
    "\n",
    "We will do this and assign a data object to it:"
   ]
  },
  {
   "cell_type": "code",
   "execution_count": null,
   "id": "ac5cb3dd",
   "metadata": {},
   "outputs": [],
   "source": [
    "ralf = test_data[1:5, 1:3]"
   ]
  },
  {
   "cell_type": "markdown",
   "id": "c55e2597",
   "metadata": {},
   "source": [
    "Recall the object \"*ralf*\":"
   ]
  },
  {
   "cell_type": "code",
   "execution_count": null,
   "id": "9a2b4fcb",
   "metadata": {},
   "outputs": [],
   "source": [
    "ralf"
   ]
  },
  {
   "cell_type": "markdown",
   "id": "47200bc6",
   "metadata": {},
   "source": [
    "Sum of all columns in \"*ralf*\" using the `colSums()` function:"
   ]
  },
  {
   "cell_type": "code",
   "execution_count": null,
   "id": "0adaca98",
   "metadata": {},
   "outputs": [],
   "source": [
    "colSums(ralf)"
   ]
  },
  {
   "cell_type": "markdown",
   "id": "992cd1ad",
   "metadata": {},
   "source": [
    "Sum of all rows in \"*ralf*\" using the `rowSums()` function:"
   ]
  },
  {
   "cell_type": "code",
   "execution_count": null,
   "id": "0c249ee7",
   "metadata": {},
   "outputs": [],
   "source": [
    "rowSums(ralf)"
   ]
  },
  {
   "cell_type": "markdown",
   "id": "367ee147",
   "metadata": {},
   "source": [
    "It is important to note that a lot can be done with numeric data. This will become apparent in the next section.  \n",
    "\n",
    "Using the cells below, have a play around with the test data to familiarise yourself some more with indexing."
   ]
  },
  {
   "cell_type": "code",
   "execution_count": null,
   "id": "993873a3",
   "metadata": {},
   "outputs": [],
   "source": []
  },
  {
   "cell_type": "code",
   "execution_count": null,
   "id": "e991998f",
   "metadata": {},
   "outputs": [],
   "source": []
  },
  {
   "cell_type": "code",
   "execution_count": null,
   "id": "bcd49d74",
   "metadata": {},
   "outputs": [],
   "source": []
  },
  {
   "cell_type": "code",
   "execution_count": null,
   "id": "e0257b22",
   "metadata": {},
   "outputs": [],
   "source": []
  },
  {
   "cell_type": "markdown",
   "id": "442c8f11",
   "metadata": {},
   "source": [
    "# <font color='Purple'>3. Sequencing data analysis</font>\n",
    "\n",
    "<hr>\n",
    "\n",
    "In the first seection learnt how to read in some data as a dataframe and look at it's structure. The second section demonstrated how to manipulate your data to get it to do what you want.  \n",
    "\n",
    "Now we will put all this together in the *R* analysis or the human skin microbiome metabracoding sequencing data you generated in the lab sessions.  \n",
    "\n",
    "This gets a bit complex, but don't panic - work through the stages and ask for assistance if needed.  \n",
    "\n",
    "## <font color='Purple'>IMPORTANT: Clear *R*'s memory</font>\n",
    "\n",
    "Before we go any further we should clean up *R*'s memory.  \n",
    "This will make sure there is none of the test data remaining to confuse the actual analysis. We can then begin the next section with a clean slate!  \n",
    "\n",
    "To do this run the cell below:"
   ]
  },
  {
   "cell_type": "code",
   "execution_count": 238,
   "id": "f994fe70",
   "metadata": {},
   "outputs": [],
   "source": [
    "rm(list = ls())"
   ]
  },
  {
   "cell_type": "markdown",
   "id": "0d99db0d",
   "metadata": {},
   "source": [
    "Remember this as you will be using it later."
   ]
  },
  {
   "cell_type": "markdown",
   "id": "988a6fbc",
   "metadata": {},
   "source": [
    " \n",
    "## <font color='Purple'>3.1. Grab the data</font>\n",
    "\n",
    "Just as before we will get the data read into *R*. The file you need is located in the `data/` directory and is called \"genetic_analysis_students_raw.tsv\".  \n",
    "\n",
    "Lets get this data read in using the `read.csv()` function:"
   ]
  },
  {
   "cell_type": "code",
   "execution_count": 231,
   "id": "86788236",
   "metadata": {},
   "outputs": [],
   "source": [
    "my_data = read.csv('data/genetic_analysis_raw_data.tsv', sep = '\\t', header = T, row.names = 1)"
   ]
  },
  {
   "cell_type": "markdown",
   "id": "1bbfa7de",
   "metadata": {},
   "source": [
    "## <font color='Purple'>3.1.1 Explore the data</font>\n",
    "\n",
    "Using the empty cells below, explore the data to get a better feel for it.  \n",
    "Remember the functions such as `head()`, `tail()`, `ncol()` etc.  "
   ]
  },
  {
   "cell_type": "code",
   "execution_count": null,
   "id": "bfba71f8",
   "metadata": {},
   "outputs": [],
   "source": []
  },
  {
   "cell_type": "code",
   "execution_count": null,
   "id": "3d5b97b3",
   "metadata": {},
   "outputs": [],
   "source": []
  },
  {
   "cell_type": "code",
   "execution_count": null,
   "id": "315e6eb3",
   "metadata": {},
   "outputs": [],
   "source": []
  },
  {
   "cell_type": "code",
   "execution_count": null,
   "id": "8ec77042",
   "metadata": {},
   "outputs": [],
   "source": []
  },
  {
   "cell_type": "code",
   "execution_count": null,
   "id": "307805ef",
   "metadata": {},
   "outputs": [],
   "source": []
  },
  {
   "cell_type": "markdown",
   "id": "f24f6b32",
   "metadata": {},
   "source": [
    "\n",
    "## <font color='Purple'>3.2. Cleaning the data</font>\n",
    "\n",
    "Metabarcoding data is invariably noisy. It will have some OTUs taxonomically assigned that are low read counts and a lot of sequencing data can be left completely unassigned to any taxonomic rank at all.  \n",
    "\n",
    "Before carrying out any analysis of the data we must first clean the dataframe and make it suitable for purpose. Here we shall do just that.  \n",
    "\n",
    "The data needs to be numeric, so let's remove the taxonomy column:"
   ]
  },
  {
   "cell_type": "code",
   "execution_count": 232,
   "id": "da6315b8",
   "metadata": {},
   "outputs": [],
   "source": [
    "my_data = my_data[,!colnames(my_data) %in% \"taxonomy\"]"
   ]
  },
  {
   "cell_type": "markdown",
   "id": "1a2ff6ff",
   "metadata": {},
   "source": [
    "For our analysis the dataframe is oriented the wrong way. Rows should be samples and columns OTUs.  \n",
    "\n",
    "We need to transpose the data using the `t()` function.  \n",
    "But to make sure the dataframe remains as a dataframe, we have to make it a datframe again (yes, *R* can seem a bit strange at times). The `as.data.frame()` function will make it a datafame.  \n",
    "\n",
    "With this in mind, lets transpose our data:"
   ]
  },
  {
   "cell_type": "code",
   "execution_count": 233,
   "id": "1f34e52f",
   "metadata": {},
   "outputs": [],
   "source": [
    "my_data = as.data.frame(t(my_data))"
   ]
  },
  {
   "cell_type": "markdown",
   "id": "365e5d85",
   "metadata": {},
   "source": [
    "Check to see if the data is correctly oriented in the cell below:"
   ]
  },
  {
   "cell_type": "code",
   "execution_count": null,
   "id": "f70817f0",
   "metadata": {},
   "outputs": [],
   "source": []
  },
  {
   "cell_type": "markdown",
   "id": "75c11583",
   "metadata": {},
   "source": [
    "**Now we must deal with the low frequency reads in each sample, the OTUs that have low read counts.**  \n",
    "\n",
    "In our data, OTUs in a sample with less than 5 reads assigned to them can be considered noise.  \n",
    "These OTUs could be genuinely presnent, but can just as easily be false artefacts from sequencing/taxonomic assignment error. Either way, they are not desirable and need to be removed.  \n",
    "\n",
    "To do this we will apply a threshold to the entire dataframe. The threshold being that any value below 5 is removed and counted as 0.  \n",
    "\n",
    "Using *R* logic (TRUE or FALSE) can determine if a result is < 5. Try it:"
   ]
  },
  {
   "cell_type": "code",
   "execution_count": null,
   "id": "805c9a0e",
   "metadata": {},
   "outputs": [],
   "source": [
    "my_data < 5"
   ]
  },
  {
   "cell_type": "markdown",
   "id": "2ce9b6ff",
   "metadata": {},
   "source": [
    "***Question:*** Is this what you were expecting to see? Why?  \n",
    "\n",
    "This in combination with indexing can change the values listed as TRUE to equal 0:"
   ]
  },
  {
   "cell_type": "code",
   "execution_count": 234,
   "id": "ad504447",
   "metadata": {},
   "outputs": [],
   "source": [
    "my_data[my_data < 5] = 0"
   ]
  },
  {
   "cell_type": "markdown",
   "id": "36ae3c28",
   "metadata": {},
   "source": [
    "It is inevitable that we now have OTUs with no reads assigned to them anyehere in the dataframe. We need to remove them now as it will confuse downsteam analysis.  \n",
    "\n",
    "Let's chop these from the data using the `colSums()` function, with a pinch of indexing and logic:"
   ]
  },
  {
   "cell_type": "code",
   "execution_count": 235,
   "id": "e7fce00e",
   "metadata": {},
   "outputs": [],
   "source": [
    "my_data = my_data[!colSums(my_data) == 0]"
   ]
  },
  {
   "cell_type": "markdown",
   "id": "aa613531",
   "metadata": {},
   "source": [
    "As you have probably seen from exploring the data earlier, there is an OTU called \"unassigned\". These are the reads that failed to be assigned to any taxonomic rank in the sample and are left \"unassigned\". These reads form no part in our analysis and need to be removed.  \n",
    "\n",
    "To do this we will use the same indexing methods as when we deleted the \"taxonomy\" before. However we are removing a row here not a column - remember the comma position while indexing for rows.  \n",
    "\n",
    "Right, time to drop the \"unassigned\" row:"
   ]
  },
  {
   "cell_type": "code",
   "execution_count": 236,
   "id": "d06ac13c",
   "metadata": {},
   "outputs": [],
   "source": [
    "my_data = my_data[,!colnames(my_data) %in% \"unassigned\"]"
   ]
  },
  {
   "cell_type": "markdown",
   "id": "b65b440e",
   "metadata": {},
   "source": [
    "The code above should make sense to you by now. If not, please ask a demonstartor or discuss with the person next to you.  \n",
    "\n",
    "## <font color='Purple'>3.3. Write out the cleaned data</font>\n",
    "\n",
    "The data is now clean!  \n",
    "We should really write it out to a file so we can come back to it easily in future without having to run all the code again.  \n",
    "\n",
    "To do this we will use the `write.table()` function.  \n",
    "By now the code required to do this should make some kind of sense to you when looking at it.  \n",
    "\n",
    "So let's write it out:"
   ]
  },
  {
   "cell_type": "code",
   "execution_count": 237,
   "id": "543712c8",
   "metadata": {},
   "outputs": [],
   "source": [
    "write.table(my_data, file = 'data/genetic_analysis_cleaned_data.tsv', sep = '\\t', col.names = NA)"
   ]
  },
  {
   "cell_type": "markdown",
   "id": "d165e5c1",
   "metadata": {},
   "source": [
    "## <font color='Purple'>Clear *R*'s memory</font>\n",
    "Here is a good point to clear the memory again.  \n",
    "None of the variables or objects we have justs generated above are needed anymore.  \n",
    "\n",
    "Use the cell below to clear *R*'s memory:"
   ]
  },
  {
   "cell_type": "code",
   "execution_count": null,
   "id": "f4962808",
   "metadata": {},
   "outputs": [],
   "source": []
  },
  {
   "cell_type": "markdown",
   "id": "fb7e6d67",
   "metadata": {},
   "source": [
    "## <font color='Purple'>-- PAUSE --</font>\n",
    "\n",
    "Before moving on take a moment to think about what you have just done.  \n",
    "Reflect on the data managemnent aspects you have just followed in the sections above.  \n",
    "\n",
    "**Questions:**  \n",
    "Why did we have to clean the data?  \n",
    "Can you describe what the important steps in the data cleaning were?  \n",
    "Can you go over the last section and understand the code involved?  \n",
    "\n",
    "Discuss with the person next to you or ask a demonstrator."
   ]
  },
  {
   "cell_type": "code",
   "execution_count": 239,
   "id": "d9bc6bd8",
   "metadata": {},
   "outputs": [],
   "source": [
    "\n",
    "# ==============================================================================\n",
    "\n",
    "# FORMATTING THE DATA\n",
    "\n",
    "# ==============================================================================\n",
    "\n",
    "# read in the new clean dataset:\n",
    "my_data_cleaned = read.csv('data/genetic_analysis_cleaned_data.tsv', sep = '\\t', header = T, row.names = 1)\n",
    "\n",
    "# make a proportion reads dataframe:\n",
    "my_data_prop = my_data_cleaned\n",
    "my_data_prop = my_data_prop/rowSums(my_data_prop)\n",
    "\n",
    "# make a presence/absence dataframe:\n",
    "my_data_pa = my_data_cleaned\n",
    "my_data_pa[my_data_pa > 0] = 1\n",
    "\n"
   ]
  },
  {
   "cell_type": "markdown",
   "id": "e9187ec1",
   "metadata": {},
   "source": [
    "We will make a list of seperate data frames per limb.  \n",
    "\n",
    "to do this we need to isolate each limb  \n",
    "\n",
    "`grep()`\n",
    "\n",
    "Let's hack the data into body parts!  \n",
    "Hack away:"
   ]
  },
  {
   "cell_type": "code",
   "execution_count": 240,
   "id": "115ae73b",
   "metadata": {},
   "outputs": [],
   "source": [
    "\n",
    "l_leg = my_data_pa[grep(\"LL\", rownames(my_data_pa)),]\n",
    "r_leg = my_data_pa[grep(\"LR\", rownames(my_data_pa)),]\n",
    "l_arm = my_data_pa[grep(\"AL\", rownames(my_data_pa)),]\n",
    "r_arm = my_data_pa[grep(\"AR\", rownames(my_data_pa)),]\n",
    "\n",
    "body_parts = list(l_leg, r_leg, l_arm, r_arm)\n",
    "\n",
    "names(body_parts) = c(\"left_leg\", \"right_leg\", \"left_arm\", \"right_arm\")\n"
   ]
  },
  {
   "cell_type": "code",
   "execution_count": null,
   "id": "2eba0cd0",
   "metadata": {},
   "outputs": [],
   "source": [
    "body_parts"
   ]
  },
  {
   "cell_type": "code",
   "execution_count": null,
   "id": "1d9e2235",
   "metadata": {},
   "outputs": [],
   "source": []
  },
  {
   "cell_type": "markdown",
   "id": "be90d72e",
   "metadata": {},
   "source": [
    "# species richness"
   ]
  },
  {
   "cell_type": "code",
   "execution_count": 241,
   "id": "321e8095",
   "metadata": {},
   "outputs": [
    {
     "data": {
      "text/html": [
       "<table class=\"dataframe\">\n",
       "<caption>A data.frame: 12 × 2</caption>\n",
       "<thead>\n",
       "\t<tr><th></th><th scope=col>richness</th><th scope=col>limb</th></tr>\n",
       "\t<tr><th></th><th scope=col>&lt;dbl&gt;</th><th scope=col>&lt;dbl&gt;</th></tr>\n",
       "</thead>\n",
       "<tbody>\n",
       "\t<tr><th scope=row>LL1</th><td> 72</td><td>1</td></tr>\n",
       "\t<tr><th scope=row>LL2</th><td>127</td><td>1</td></tr>\n",
       "\t<tr><th scope=row>LL3</th><td>116</td><td>1</td></tr>\n",
       "\t<tr><th scope=row>LR1</th><td>103</td><td>2</td></tr>\n",
       "\t<tr><th scope=row>LR2</th><td> 92</td><td>2</td></tr>\n",
       "\t<tr><th scope=row>LR3</th><td> 82</td><td>2</td></tr>\n",
       "\t<tr><th scope=row>AL1</th><td>111</td><td>3</td></tr>\n",
       "\t<tr><th scope=row>AL2</th><td> 93</td><td>3</td></tr>\n",
       "\t<tr><th scope=row>AL3</th><td>111</td><td>3</td></tr>\n",
       "\t<tr><th scope=row>AR1</th><td>148</td><td>4</td></tr>\n",
       "\t<tr><th scope=row>AR2</th><td>137</td><td>4</td></tr>\n",
       "\t<tr><th scope=row>AR3</th><td>155</td><td>4</td></tr>\n",
       "</tbody>\n",
       "</table>\n"
      ],
      "text/latex": [
       "A data.frame: 12 × 2\n",
       "\\begin{tabular}{r|ll}\n",
       "  & richness & limb\\\\\n",
       "  & <dbl> & <dbl>\\\\\n",
       "\\hline\n",
       "\tLL1 &  72 & 1\\\\\n",
       "\tLL2 & 127 & 1\\\\\n",
       "\tLL3 & 116 & 1\\\\\n",
       "\tLR1 & 103 & 2\\\\\n",
       "\tLR2 &  92 & 2\\\\\n",
       "\tLR3 &  82 & 2\\\\\n",
       "\tAL1 & 111 & 3\\\\\n",
       "\tAL2 &  93 & 3\\\\\n",
       "\tAL3 & 111 & 3\\\\\n",
       "\tAR1 & 148 & 4\\\\\n",
       "\tAR2 & 137 & 4\\\\\n",
       "\tAR3 & 155 & 4\\\\\n",
       "\\end{tabular}\n"
      ],
      "text/markdown": [
       "\n",
       "A data.frame: 12 × 2\n",
       "\n",
       "| <!--/--> | richness &lt;dbl&gt; | limb &lt;dbl&gt; |\n",
       "|---|---|---|\n",
       "| LL1 |  72 | 1 |\n",
       "| LL2 | 127 | 1 |\n",
       "| LL3 | 116 | 1 |\n",
       "| LR1 | 103 | 2 |\n",
       "| LR2 |  92 | 2 |\n",
       "| LR3 |  82 | 2 |\n",
       "| AL1 | 111 | 3 |\n",
       "| AL2 |  93 | 3 |\n",
       "| AL3 | 111 | 3 |\n",
       "| AR1 | 148 | 4 |\n",
       "| AR2 | 137 | 4 |\n",
       "| AR3 | 155 | 4 |\n",
       "\n"
      ],
      "text/plain": [
       "    richness limb\n",
       "LL1  72      1   \n",
       "LL2 127      1   \n",
       "LL3 116      1   \n",
       "LR1 103      2   \n",
       "LR2  92      2   \n",
       "LR3  82      2   \n",
       "AL1 111      3   \n",
       "AL2  93      3   \n",
       "AL3 111      3   \n",
       "AR1 148      4   \n",
       "AR2 137      4   \n",
       "AR3 155      4   "
      ]
     },
     "metadata": {},
     "output_type": "display_data"
    }
   ],
   "source": [
    "my_data_rich = my_data_pa[FALSE]\n",
    "\n",
    "my_data_rich$richness = rowSums(my_data_pa)\n",
    "my_data_rich$limb = rep(c(1, 2, 3, 4), each = 3)\n",
    "\n",
    "my_data_rich"
   ]
  },
  {
   "cell_type": "code",
   "execution_count": 242,
   "id": "c3677352",
   "metadata": {},
   "outputs": [
    {
     "data": {
      "image/png": "[encoded data removed]",
      "text/plain": [
       "plot without title"
      ]
     },
     "metadata": {
      "image/png": {
       "height": 420,
       "width": 420
      }
     },
     "output_type": "display_data"
    }
   ],
   "source": [
    "boxplot(my_data_rich$richness ~ my_data_rich$limb,\n",
    "        names = c(\"left leg\", \"right leg\", \"left arm\", \"right arm\"),\n",
    "        ylab = 'OTU richness',\n",
    "        xlab = 'Sample site',\n",
    "        cex.lab = 1.5,\n",
    "        las = 1)"
   ]
  },
  {
   "cell_type": "code",
   "execution_count": 243,
   "id": "c0709553",
   "metadata": {},
   "outputs": [],
   "source": [
    "l_leg_rich = sum(colSums(body_parts$left_leg) > 0)\n",
    "r_leg_rich = sum(colSums(body_parts$right_leg) > 0)\n",
    "l_arm_rich = sum(colSums(body_parts$left_arm) > 0)\n",
    "r_arm_rich = sum(colSums(body_parts$right_arm) > 0)\n",
    "\n",
    "total_richness = c(l_leg_rich, r_leg_rich, l_arm_rich, r_arm_rich)\n",
    "names(total_richness) = c(\"left leg\", \"right leg\", \"left arm\", \"right arm\")"
   ]
  },
  {
   "cell_type": "code",
   "execution_count": 244,
   "id": "c3b38926",
   "metadata": {},
   "outputs": [
    {
     "data": {
      "image/png": "[encoded data removed]",
      "text/plain": [
       "plot without title"
      ]
     },
     "metadata": {
      "image/png": {
       "height": 420,
       "width": 420
      }
     },
     "output_type": "display_data"
    }
   ],
   "source": [
    "barplot(total_richness, beside = T)"
   ]
  },
  {
   "cell_type": "markdown",
   "id": "ac5d4752",
   "metadata": {},
   "source": [
    "# VEGAN"
   ]
  },
  {
   "cell_type": "markdown",
   "id": "c2cd085b",
   "metadata": {},
   "source": [
    "# species accumulation"
   ]
  },
  {
   "cell_type": "code",
   "execution_count": 245,
   "id": "ab841a7a",
   "metadata": {},
   "outputs": [],
   "source": [
    "library(vegan)"
   ]
  },
  {
   "cell_type": "markdown",
   "id": "6ede36f4",
   "metadata": {},
   "source": [
    "for the list of limb dataframes we will have to loop through each to make another list of outputs from vegan's species accumulation function: `specaccum()`"
   ]
  },
  {
   "cell_type": "code",
   "execution_count": 246,
   "id": "5a95e5e6",
   "metadata": {
    "scrolled": true
   },
   "outputs": [
    {
     "name": "stderr",
     "output_type": "stream",
     "text": [
      "Warning message in cor(x > 0):\n",
      "“the standard deviation is zero”\n",
      "Warning message in cor(x > 0):\n",
      "“the standard deviation is zero”\n",
      "Warning message in cor(x > 0):\n",
      "“the standard deviation is zero”\n",
      "Warning message in cor(x > 0):\n",
      "“the standard deviation is zero”\n"
     ]
    }
   ],
   "source": [
    "species_accum = list()\n",
    "\n",
    "limbs = c(\"left_leg\", \"right_leg\", \"left_arm\", \"right_arm\")\n",
    "\n",
    "for(limb in limbs){\n",
    "        vegan_accum = specaccum(body_parts[[limb]],\n",
    "              method = \"exact\",\n",
    "              permutations = 100)\n",
    "        species_accum[[limb]] = vegan_accum\n",
    "}"
   ]
  },
  {
   "cell_type": "code",
   "execution_count": null,
   "id": "57e0312b",
   "metadata": {},
   "outputs": [],
   "source": [
    "plot(species_accum[[1]])"
   ]
  },
  {
   "cell_type": "code",
   "execution_count": 251,
   "id": "261ffce9",
   "metadata": {},
   "outputs": [
    {
     "data": {
      "image/png": "[encoded data removed]",
      "text/plain": [
       "Plot with title “right arm”"
      ]
     },
     "metadata": {
      "image/png": {
       "height": 420,
       "width": 420
      }
     },
     "output_type": "display_data"
    }
   ],
   "source": [
    "par(mfrow = c(2, 2))\n",
    "\n",
    "limbs = c(\"left_leg\", \"right_leg\", \"left_arm\", \"right_arm\")\n",
    "\n",
    "for(limb in limbs){\n",
    "    plot(species_accum[[limb]],\n",
    "        ylim = c(50, 300),\n",
    "        main = sub('_', ' ', limb),\n",
    "        xlab = 'Samples',\n",
    "        ylab = 'OTUs detected',\n",
    "        las = 1)\n",
    "    lines(species_accum[[limb]]$richness, lwd = 3)\n",
    "}"
   ]
  },
  {
   "cell_type": "code",
   "execution_count": 248,
   "id": "7151a537",
   "metadata": {},
   "outputs": [
    {
     "name": "stdout",
     "output_type": "stream",
     "text": [
      "Run 0 stress 0.02566479 \n",
      "Run 1 stress 0.02566473 \n",
      "... New best solution\n",
      "... Procrustes: rmse 3.892369e-05  max resid 0.0001104985 \n",
      "... Similar to previous best\n",
      "Run 2 stress 0.02569564 \n",
      "... Procrustes: rmse 0.003451072  max resid 0.008874034 \n",
      "... Similar to previous best\n",
      "Run 3 stress 0.02566175 \n",
      "... New best solution\n",
      "... Procrustes: rmse 0.002199813  max resid 0.006334573 \n",
      "... Similar to previous best\n",
      "Run 4 stress 0.0256793 \n",
      "... Procrustes: rmse 0.004394449  max resid 0.01248065 \n",
      "Run 5 stress 0.03528554 \n",
      "Run 6 stress 0.02566489 \n",
      "... Procrustes: rmse 0.002297192  max resid 0.006625506 \n",
      "... Similar to previous best\n",
      "Run 7 stress 0.1825934 \n",
      "Run 8 stress 0.03768512 \n",
      "Run 9 stress 0.02566964 \n",
      "... Procrustes: rmse 0.003344063  max resid 0.009670719 \n",
      "... Similar to previous best\n",
      "Run 10 stress 0.0352866 \n",
      "Run 11 stress 0.03764666 \n",
      "Run 12 stress 0.02566573 \n",
      "... Procrustes: rmse 0.002678674  max resid 0.00775556 \n",
      "... Similar to previous best\n",
      "Run 13 stress 0.03768353 \n",
      "Run 14 stress 0.03764676 \n",
      "Run 15 stress 0.03528637 \n",
      "Run 16 stress 0.02566156 \n",
      "... New best solution\n",
      "... Procrustes: rmse 0.0001757074  max resid 0.0004389577 \n",
      "... Similar to previous best\n",
      "Run 17 stress 0.03528659 \n",
      "Run 18 stress 0.02566373 \n",
      "... Procrustes: rmse 0.001466889  max resid 0.004211855 \n",
      "... Similar to previous best\n",
      "Run 19 stress 0.02566179 \n",
      "... Procrustes: rmse 0.000204197  max resid 0.0005118113 \n",
      "... Similar to previous best\n",
      "Run 20 stress 0.03764673 \n",
      "Run 21 stress 0.03528665 \n",
      "Run 22 stress 0.03528643 \n",
      "Run 23 stress 0.03768356 \n",
      "Run 24 stress 0.03528674 \n",
      "Run 25 stress 0.03528672 \n",
      "Run 26 stress 0.03764793 \n",
      "Run 27 stress 0.02566166 \n",
      "... Procrustes: rmse 0.0001152578  max resid 0.0002868217 \n",
      "... Similar to previous best\n",
      "Run 28 stress 0.0256616 \n",
      "... Procrustes: rmse 5.55022e-05  max resid 0.0001397944 \n",
      "... Similar to previous best\n",
      "Run 29 stress 0.02566511 \n",
      "... Procrustes: rmse 0.002231721  max resid 0.006484782 \n",
      "... Similar to previous best\n",
      "Run 30 stress 0.03764709 \n",
      "Run 31 stress 0.2076015 \n",
      "Run 32 stress 0.03528655 \n",
      "Run 33 stress 0.02567976 \n",
      "... Procrustes: rmse 0.004154964  max resid 0.01182561 \n",
      "Run 34 stress 0.03764724 \n",
      "Run 35 stress 0.0352864 \n",
      "Run 36 stress 0.02566177 \n",
      "... Procrustes: rmse 0.0001916435  max resid 0.0004838189 \n",
      "... Similar to previous best\n",
      "Run 37 stress 0.02566519 \n",
      "... Procrustes: rmse 0.002300793  max resid 0.006686464 \n",
      "... Similar to previous best\n",
      "Run 38 stress 0.02566551 \n",
      "... Procrustes: rmse 0.002433018  max resid 0.007071339 \n",
      "... Similar to previous best\n",
      "Run 39 stress 0.03764718 \n",
      "Run 40 stress 0.02566358 \n",
      "... Procrustes: rmse 0.001384451  max resid 0.003966226 \n",
      "... Similar to previous best\n",
      "Run 41 stress 0.0256648 \n",
      "... Procrustes: rmse 0.00205826  max resid 0.005967616 \n",
      "... Similar to previous best\n",
      "Run 42 stress 0.02575436 \n",
      "... Procrustes: rmse 0.009200715  max resid 0.02594229 \n",
      "Run 43 stress 0.0376793 \n",
      "Run 44 stress 0.03528621 \n",
      "Run 45 stress 0.03764665 \n",
      "Run 46 stress 0.02566166 \n",
      "... Procrustes: rmse 0.0001154774  max resid 0.000289708 \n",
      "... Similar to previous best\n",
      "Run 47 stress 0.02566548 \n",
      "... Procrustes: rmse 0.002435436  max resid 0.007080588 \n",
      "... Similar to previous best\n",
      "Run 48 stress 0.02566484 \n",
      "... Procrustes: rmse 0.002068755  max resid 0.006002469 \n",
      "... Similar to previous best\n",
      "Run 49 stress 0.02566377 \n",
      "... Procrustes: rmse 0.001306482  max resid 0.00372901 \n",
      "... Similar to previous best\n",
      "Run 50 stress 0.02566472 \n",
      "... Procrustes: rmse 0.002034597  max resid 0.005896736 \n",
      "... Similar to previous best\n",
      "Run 51 stress 0.02566166 \n",
      "... Procrustes: rmse 0.0001073373  max resid 0.0002705425 \n",
      "... Similar to previous best\n",
      "Run 52 stress 0.02566494 \n",
      "... Procrustes: rmse 0.002138048  max resid 0.006205091 \n",
      "... Similar to previous best\n",
      "Run 53 stress 0.03528644 \n",
      "Run 54 stress 0.03528588 \n",
      "Run 55 stress 0.2121195 \n",
      "Run 56 stress 0.03528608 \n",
      "Run 57 stress 0.03764729 \n",
      "Run 58 stress 0.03764678 \n",
      "Run 59 stress 0.03528621 \n",
      "Run 60 stress 0.03528583 \n",
      "Run 61 stress 0.03764672 \n",
      "Run 62 stress 0.02566509 \n",
      "... Procrustes: rmse 0.002251472  max resid 0.006541063 \n",
      "... Similar to previous best\n",
      "Run 63 stress 0.03764723 \n",
      "Run 64 stress 0.03528621 \n",
      "Run 65 stress 0.02570262 \n",
      "... Procrustes: rmse 0.006262441  max resid 0.01743965 \n",
      "Run 66 stress 0.03764763 \n",
      "Run 67 stress 0.03764645 \n",
      "Run 68 stress 0.02566159 \n",
      "... Procrustes: rmse 4.664711e-05  max resid 0.0001159356 \n",
      "... Similar to previous best\n",
      "Run 69 stress 0.03768249 \n",
      "Run 70 stress 0.02566492 \n",
      "... Procrustes: rmse 0.00212521  max resid 0.006166003 \n",
      "... Similar to previous best\n",
      "Run 71 stress 0.0352865 \n",
      "Run 72 stress 0.02566534 \n",
      "... Procrustes: rmse 0.002154178  max resid 0.006247856 \n",
      "... Similar to previous best\n",
      "Run 73 stress 0.02566521 \n",
      "... Procrustes: rmse 0.002320344  max resid 0.006742757 \n",
      "... Similar to previous best\n",
      "Run 74 stress 0.03764698 \n",
      "Run 75 stress 0.03764693 \n",
      "Run 76 stress 0.03764686 \n",
      "Run 77 stress 0.03764693 \n",
      "Run 78 stress 0.02566158 \n",
      "... Procrustes: rmse 2.456544e-05  max resid 5.616645e-05 \n",
      "... Similar to previous best\n",
      "Run 79 stress 0.03764677 \n",
      "Run 80 stress 0.02566602 \n",
      "... Procrustes: rmse 0.002610269  max resid 0.007587039 \n",
      "... Similar to previous best\n",
      "Run 81 stress 0.0352868 \n",
      "Run 82 stress 0.03764694 \n",
      "Run 83 stress 0.02566176 \n",
      "... Procrustes: rmse 0.0001742036  max resid 0.0004425595 \n",
      "... Similar to previous best\n",
      "Run 84 stress 0.02566165 \n",
      "... Procrustes: rmse 0.0001029877  max resid 0.000259104 \n",
      "... Similar to previous best\n",
      "Run 85 stress 0.02566159 \n",
      "... Procrustes: rmse 3.425121e-05  max resid 8.442046e-05 \n",
      "... Similar to previous best\n",
      "Run 86 stress 0.03528629 \n",
      "Run 87 stress 0.02566166 \n",
      "... Procrustes: rmse 0.0001124039  max resid 0.000279952 \n",
      "... Similar to previous best\n",
      "Run 88 stress 0.02566764 \n",
      "... Procrustes: rmse 0.002848168  max resid 0.008276956 \n",
      "... Similar to previous best\n",
      "Run 89 stress 0.02566154 \n",
      "... New best solution\n",
      "... Procrustes: rmse 3.246238e-05  max resid 7.923955e-05 \n",
      "... Similar to previous best\n",
      "Run 90 stress 0.0256616 \n",
      "... Procrustes: rmse 8.179293e-05  max resid 0.000209273 \n",
      "... Similar to previous best\n",
      "Run 91 stress 0.03528625 \n",
      "Run 92 stress 0.02566691 \n",
      "... Procrustes: rmse 0.00277404  max resid 0.00806658 \n",
      "... Similar to previous best\n",
      "Run 93 stress 0.02566154 \n",
      "... New best solution\n",
      "... Procrustes: rmse 0.0001257844  max resid 0.0003063011 \n",
      "... Similar to previous best\n",
      "Run 94 stress 0.02566175 \n",
      "... Procrustes: rmse 0.0003178326  max resid 0.0008124131 \n",
      "... Similar to previous best\n",
      "Run 95 stress 0.0352866 \n",
      "Run 96 stress 0.02566172 \n",
      "... Procrustes: rmse 0.0003078783  max resid 0.0007857446 \n",
      "... Similar to previous best\n",
      "Run 97 stress 0.03767995 \n",
      "Run 98 stress 0.03528675 \n",
      "Run 99 stress 0.02566537 \n",
      "... Procrustes: rmse 0.002253473  max resid 0.006578622 \n",
      "... Similar to previous best\n",
      "Run 100 stress 0.02566403 \n",
      "... Procrustes: rmse 0.001483611  max resid 0.004300307 \n",
      "... Similar to previous best\n",
      "*** Best solution repeated 5 times\n"
     ]
    }
   ],
   "source": [
    "\n",
    "library('vegan')\n",
    "\n",
    "# make presence/absence and proportion reads dataframes suitable for vegan:\n",
    "\n",
    "# create an env dataframe for use in vegan:\n",
    "veg_env = my_data_prop[FALSE]\n",
    "veg_env$site = rownames(veg_env)\n",
    "veg_env$limb = rep(c('leg', 'arm'), each = 6)\n",
    "veg_env$side = rep(rep(c('left', 'right'), each = 3), 2)\n",
    "veg_env$side_limb = paste(veg_env$side, veg_env$limb, sep = '_')\n",
    "# veg_env$cols = \n",
    "\n",
    "ord = metaMDS(my_data_prop, k = 3, try = 100, trymax = 10000, distance = 'bray', na.rm = T)\n"
   ]
  },
  {
   "cell_type": "code",
   "execution_count": 249,
   "id": "1a861b20",
   "metadata": {},
   "outputs": [
    {
     "data": {
      "image/png": "[encoded data removed]",
      "text/plain": [
       "plot without title"
      ]
     },
     "metadata": {
      "image/png": {
       "height": 420,
       "width": 420
      }
     },
     "output_type": "display_data"
    }
   ],
   "source": [
    "\n",
    "# ------------------------------------------------------------------------------\n",
    "# PLOT SPECIES ABUNDANCE NMDS\n",
    "# ------------------------------------------------------------------------------\n",
    "\n",
    "cols = c('red', 'yellow','green', 'blue')\n",
    "\n",
    "plot(ord, disp = \"sites\", type = 'n', axes = F, xlab = 'NMDS1', ylab = 'NMDS2', bty = 'n', cex.lab = 1.5)\n",
    "\n",
    "axis(1, at = seq(-1,2,0.5), cex.axis = 1, padj = -0.5, tck = -0.01, lwd = 0, lwd.ticks = 2)\n",
    "axis(2, at = seq(-1,1,0.5), cex.axis = 1, las = 1, tck = -0.02, lwd = 0, lwd.ticks = 2)\n",
    "\n",
    "abline(h = 0, v = 0, lwd = 2, col = 'grey')\n",
    "\n",
    "ordiellipse(ord,\n",
    "            veg_env$side_limb, kind = \"ehull\", lwd = 2,\n",
    "            col = rep(c('green', 'red'), each = 2))\n",
    "\n",
    "text(ord$points[,1:2], labels = veg_env$site, pos = 4)\n",
    "\n",
    "points(ord,\n",
    "       disp = \"sites\",\n",
    "       pch = ifelse(veg_env$limb == 'arm', 21, 24),\n",
    "       bg = ifelse(veg_env$side == 'left', 'green', 'red'),\n",
    "       cex = 2,\n",
    "       col = 'black',\n",
    "       lwd=0.5)\n",
    "\n",
    "\n",
    "box('plot', lwd=2)"
   ]
  }
 ],
 "metadata": {
  "kernelspec": {
   "display_name": "R",
   "language": "R",
   "name": "ir"
  },
  "language_info": {
   "codemirror_mode": "r",
   "file_extension": ".r",
   "mimetype": "text/x-r-source",
   "name": "R",
   "pygments_lexer": "r",
   "version": "4.2.1"
  }
 },
 "nbformat": 4,
 "nbformat_minor": 5
}
