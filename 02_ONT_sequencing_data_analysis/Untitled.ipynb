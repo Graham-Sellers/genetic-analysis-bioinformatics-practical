{
 "cells": [
  {
   "cell_type": "code",
   "execution_count": null,
   "id": "d1130a05",
   "metadata": {},
   "outputs": [],
   "source": [
    "conda activate genetic_analysis"
   ]
  },
  {
   "cell_type": "markdown",
   "id": "ee07ae1d",
   "metadata": {},
   "source": [
    "lets look at the first 4 lines of the fastq in the `data` directory:"
   ]
  },
  {
   "cell_type": "code",
   "execution_count": null,
   "id": "ecb8583f",
   "metadata": {
    "scrolled": false
   },
   "outputs": [],
   "source": [
    "head -4 data/test_sample.fastq"
   ]
  },
  {
   "cell_type": "markdown",
   "id": "abfce768",
   "metadata": {},
   "source": [
    "Now lets make this look like a bioinformatics working directory.  \n",
    "We need to make a `results` directory where all the outputs from the anlysis go.  \n",
    "Do it now:"
   ]
  },
  {
   "cell_type": "code",
   "execution_count": null,
   "id": "d95b0e77",
   "metadata": {},
   "outputs": [],
   "source": [
    "mkdir results"
   ]
  },
  {
   "cell_type": "markdown",
   "id": "0ed0abb8",
   "metadata": {},
   "source": [
    "Now we need to populate that with a `qc` (quality control) directory and a `kraken2` (taxonomic assignment) directory:"
   ]
  },
  {
   "cell_type": "code",
   "execution_count": null,
   "id": "f94a85df",
   "metadata": {},
   "outputs": [],
   "source": [
    "mkdir results/qc results/kraken2"
   ]
  },
  {
   "cell_type": "markdown",
   "id": "330803ec",
   "metadata": {},
   "source": [
    "Nice that we can do that in a one-liner isn't it?  \n",
    "  \n",
    "Let's look at the vital statistics of the fastq file using `seqkit`:"
   ]
  },
  {
   "cell_type": "code",
   "execution_count": null,
   "id": "346d6101",
   "metadata": {},
   "outputs": [],
   "source": [
    "seqkit stats data/test_sample.fastq"
   ]
  },
  {
   "cell_type": "markdown",
   "id": "98de6215",
   "metadata": {},
   "source": [
    "OK, lets qc the fastq using `fastp`:"
   ]
  },
  {
   "cell_type": "code",
   "execution_count": null,
   "id": "ae1d6872",
   "metadata": {},
   "outputs": [],
   "source": [
    "fastp \\\n",
    "    --disable_adapter_trimming \\\n",
    "    --in1 data/test_sample.fastq \\\n",
    "    --out1 results/qc/test_sample.qc.fastq \\\n",
    "    -j results/qc/test_sample.json \\\n",
    "    -h results/qc/test_sample.html \\\n",
    "    --qualified_quality_phred 7 \\\n",
    "    --unqualified_percent_limit 40 \\\n",
    "    --average_qual 7 \\\n",
    "    --length_required 1000 \\\n",
    "    --max_len1 1700"
   ]
  },
  {
   "cell_type": "markdown",
   "id": "890eeaaf",
   "metadata": {},
   "source": [
    "Shall we see what that did, `seqkit` to the rescue:"
   ]
  },
  {
   "cell_type": "code",
   "execution_count": null,
   "id": "0bced58f",
   "metadata": {},
   "outputs": [],
   "source": [
    "seqkit stats results/qc/test_sample.qc.fastq"
   ]
  },
  {
   "cell_type": "markdown",
   "id": "d3986def",
   "metadata": {},
   "source": [
    "Right, FUCK IT. Unleash the Kraken 2:"
   ]
  },
  {
   "cell_type": "code",
   "execution_count": null,
   "id": "91d827ee",
   "metadata": {},
   "outputs": [],
   "source": [
    "kraken2 \\\n",
    "    results/qc/test_sample.qc.fastq \\\n",
    "    --db bact_db \\\n",
    "    --report results/kraken2/test_sample.txt \\\n",
    "    --output results/kraken2/test_sample.krk \\\n",
    "    --minimum-base-quality 7 \\\n",
    "    --confidence 0.02"
   ]
  },
  {
   "cell_type": "markdown",
   "id": "94fedafc",
   "metadata": {},
   "source": [
    "Make it more human-readable with a custom python script located in the `scripts` directory:"
   ]
  },
  {
   "cell_type": "code",
   "execution_count": null,
   "id": "39c7bc07",
   "metadata": {},
   "outputs": [],
   "source": [
    "python scripts/to_tsv.py -i results/kraken2/test_sample.txt -o results/test_sample.tsv"
   ]
  },
  {
   "cell_type": "code",
   "execution_count": null,
   "id": "aaa23e66",
   "metadata": {},
   "outputs": [],
   "source": []
  }
 ],
 "metadata": {
  "kernelspec": {
   "display_name": "Bash",
   "language": "bash",
   "name": "bash"
  },
  "language_info": {
   "codemirror_mode": "shell",
   "file_extension": ".sh",
   "mimetype": "text/x-sh",
   "name": "bash"
  }
 },
 "nbformat": 4,
 "nbformat_minor": 5
}
