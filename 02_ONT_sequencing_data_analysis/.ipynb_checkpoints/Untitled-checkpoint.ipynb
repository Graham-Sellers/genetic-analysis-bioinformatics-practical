{
 "cells": [
  {
   "cell_type": "code",
   "execution_count": null,
   "id": "ab4373fc",
   "metadata": {},
   "outputs": [],
   "source": [
    "# conda activate genetic_analysis"
   ]
  },
  {
   "cell_type": "markdown",
   "id": "10c109ce",
   "metadata": {},
   "source": [
    "lets look at the first 4 lines of the fastq in the `data` directory:"
   ]
  },
  {
   "cell_type": "code",
   "execution_count": null,
   "id": "d5f2b75a",
   "metadata": {
    "scrolled": false
   },
   "outputs": [],
   "source": [
    "head -4 data/test_sample.fastq"
   ]
  },
  {
   "cell_type": "markdown",
   "id": "a6e91caa",
   "metadata": {},
   "source": [
    "Now lets make this look like a bioinformatics working directory.  \n",
    "We need to make a `results` directory where all the outputs from the anlysis go.  \n",
    "Do it now:"
   ]
  },
  {
   "cell_type": "code",
   "execution_count": null,
   "id": "f11c7605",
   "metadata": {},
   "outputs": [],
   "source": [
    "mkdir results"
   ]
  },
  {
   "cell_type": "markdown",
   "id": "4de699f2",
   "metadata": {},
   "source": [
    "Now we need to populate that with a `qc` (quality control) directory and a `kraken2` (taxonomic assignment) directory:"
   ]
  },
  {
   "cell_type": "code",
   "execution_count": null,
   "id": "4ca80392",
   "metadata": {},
   "outputs": [],
   "source": [
    "mkdir results/qc results/kraken2"
   ]
  },
  {
   "cell_type": "markdown",
   "id": "a4b00b0f",
   "metadata": {},
   "source": [
    "Nice that we can do that in a one-liner isn't it?  \n",
    "  \n",
    "Let's look at the vital statistics of the fastq file using `seqkit`:"
   ]
  },
  {
   "cell_type": "code",
   "execution_count": null,
   "id": "bd6cd813",
   "metadata": {},
   "outputs": [],
   "source": [
    "seqkit stats data/test_sample.fastq"
   ]
  },
  {
   "cell_type": "markdown",
   "id": "2a3e2062",
   "metadata": {},
   "source": [
    "OK, lets qc the fastq using `fastp`:"
   ]
  },
  {
   "cell_type": "code",
   "execution_count": null,
   "id": "c5a3ace8",
   "metadata": {},
   "outputs": [],
   "source": [
    "fastp \\\n",
    "    --disable_adapter_trimming \\\n",
    "    --in1 data/test_sample.fastq \\\n",
    "    --out1 results/qc/test_sample.qc.fastq \\\n",
    "    -j results/qc/test_sample.json \\\n",
    "    -h results/qc/test_sample.html \\\n",
    "    --qualified_quality_phred 7 \\\n",
    "    --unqualified_percent_limit 40 \\\n",
    "    --average_qual 7 \\\n",
    "    --length_required 1000 \\\n",
    "    --max_len1 1700"
   ]
  },
  {
   "cell_type": "markdown",
   "id": "15bb3781",
   "metadata": {},
   "source": [
    "Shall we see what that did, `seqkit` to the rescue:"
   ]
  },
  {
   "cell_type": "code",
   "execution_count": null,
   "id": "b6022be7",
   "metadata": {},
   "outputs": [],
   "source": [
    "seqkit stats results/qc/test_sample.qc.fastq"
   ]
  },
  {
   "cell_type": "markdown",
   "id": "109d06a0",
   "metadata": {},
   "source": [
    "Right, FUCK IT. Unleash the Kraken 2:"
   ]
  },
  {
   "cell_type": "code",
   "execution_count": null,
   "id": "235c8303",
   "metadata": {},
   "outputs": [],
   "source": [
    "kraken2 \\\n",
    "    results/qc/test_sample.qc.fastq \\\n",
    "    --db bact_db \\\n",
    "    --report results/kraken2/test_sample.txt \\\n",
    "    --output results/kraken2/test_sample.krk \\\n",
    "    --minimum-base-quality 7 \\\n",
    "    --confidence 0.02"
   ]
  },
  {
   "cell_type": "markdown",
   "id": "5a091cd6",
   "metadata": {},
   "source": [
    "Make it more human-readable with a custom python script located in the `scripts` directory:"
   ]
  },
  {
   "cell_type": "code",
   "execution_count": null,
   "id": "a413e4a5",
   "metadata": {},
   "outputs": [],
   "source": [
    "python scripts/to_tsv.py -i results/kraken2/test_sample.txt -o results/test_sample.tsv"
   ]
  },
  {
   "cell_type": "markdown",
   "id": "8e5bf69d",
   "metadata": {},
   "source": [
    "LOOK AT IT!"
   ]
  },
  {
   "cell_type": "code",
   "execution_count": null,
   "id": "5f83849a",
   "metadata": {},
   "outputs": [],
   "source": [
    "less results/test_sample.tsv"
   ]
  }
 ],
 "metadata": {
  "kernelspec": {
   "display_name": "Bash",
   "language": "bash",
   "name": "bash"
  },
  "language_info": {
   "codemirror_mode": "shell",
   "file_extension": ".sh",
   "mimetype": "text/x-sh",
   "name": "bash"
  }
 },
 "nbformat": 4,
 "nbformat_minor": 5
}
