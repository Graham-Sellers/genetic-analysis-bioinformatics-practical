{
 "cells": [
  {
   "cell_type": "markdown",
   "id": "1667a6a7",
   "metadata": {},
   "source": [
    "<hr>\n",
    "\n",
    "# <font color='Purple'>GENTEIC ANALYSIS: INTRODUCTION TO THE UNIX COMMAND LINE</font>\n",
    "\n",
    "<hr>\n",
    "    \n",
    "Dr Graham S Sellers *g.sellers@hull.ac.uk*"
   ]
  },
  {
   "cell_type": "markdown",
   "id": "6954f6a5",
   "metadata": {},
   "source": [
    "![terminal](images/terminal.jpg)"
   ]
  },
  {
   "cell_type": "markdown",
   "id": "bedadae2",
   "metadata": {},
   "source": [
    "# <font color='Purple'>Overview</font>\n",
    "\n",
    "This practical will introduce you to the unix command line and some of its basic utilities.  \n",
    "At the end of this practical session you will have experienced, and hopefully appreciate, the power and functionality of using the command line within a unix terminal and understand its wider applications to data management.  "
   ]
  },
  {
   "cell_type": "markdown",
   "id": "e47f8619",
   "metadata": {},
   "source": [
    "# <font color='Purple'>1. Introduction to the command line</font>\n",
    "\n",
    "<hr>\n",
    "\n",
    "Below we will give only a very simple overview of the basic utilities of the unix command line. The best way to learn the command line is to Google search for instructions and then try it yourself, experimenting as much as you can.  \n",
    "\n",
    "For this practical, we have embedded the unix command line into a Jupyter notebook so that you have both the instructions and the command line exercises together. A normal command line terminal would be a seperate window, but otherwise it is the same and all the commands you will use in this session are applicable.  \n",
    "\n",
    "The actual terminal where commands are written and run for this practical are the grey cells (boxes) prefixed by [ ]:  \n",
    "Here is one:"
   ]
  },
  {
   "cell_type": "code",
   "execution_count": null,
   "id": "a17cc94b",
   "metadata": {},
   "outputs": [],
   "source": []
  },
  {
   "cell_type": "markdown",
   "id": "212f631d",
   "metadata": {},
   "source": [
    "You can run commands in a terminal cell by clicking in it, typing a command, and then Shift-Enter to run the command. You can also click the triangular `Run` button in the menu bar. Try it below, the 'hello world' `echo` command has been entered for you."
   ]
  },
  {
   "cell_type": "code",
   "execution_count": null,
   "id": "7ad00ee7",
   "metadata": {},
   "outputs": [],
   "source": [
    "echo 'Hello World!'"
   ]
  },
  {
   "cell_type": "markdown",
   "id": "48e68e34",
   "metadata": {},
   "source": [
    "You should see that the output 'Hello World!' has been printed direcly below the cell. We'll introduce the `echo` command later but you can probably already guess what it does."
   ]
  },
  {
   "cell_type": "markdown",
   "id": "fda2e384",
   "metadata": {},
   "source": [
    "# <font color='Purple'>2. Navigating the file system</font>\n",
    "\n",
    "<hr>\n",
    "\n",
    "The first thing to do is to learn the basics of moving between places on your computer, checking where you are, checking what files are present and having a quick look at them. Some of the terminology is perhaps slightly new (‘directories’ rather than ‘folders’) but using the right words will mean you are speaking the same language as everyone else and make your life easier when Googling for solutions.\n",
    "\n",
    "## <font color='Purple'>2.1 Checking where you are (`pwd`), listing contents (`ls`) and changing directories (`cd`)</font>\n",
    "\n",
    "### <font color='Purple'>2.1.1 Where am I? `pwd`</font>\n",
    "\n",
    "At the command line you need to know “where you are” i.e. which directory (folder) you have open and are working in, called the working directory. The command to find out where you are is `pwd` short for ‘print working directory’. NB: ‘print’ when working at the command line means ‘display on the screen’ rather than ‘write this to a piece of paper’.\n",
    "\n",
    "Type the command to print working directory `pwd` below, and hit Shift-Enter to run the command."
   ]
  },
  {
   "cell_type": "code",
   "execution_count": null,
   "id": "5fa6ee05",
   "metadata": {},
   "outputs": [],
   "source": []
  },
  {
   "cell_type": "markdown",
   "id": "ceb7e4d4",
   "metadata": {},
   "source": [
    "You should see something like this:\n",
    "\n",
    "\n",
    "    /01_introduction_to_unix_command_line  \n",
    "\n",
    "**Tip: if you want to try something and there isn't an empty terminal cell, use the menu bar `+` to \"Insert Cell\"**\n",
    "\n",
    "Try inserting a cell below and check your working directory again: \n",
    "  \n",
    "  "
   ]
  },
  {
   "cell_type": "markdown",
   "id": "bb0c9b25",
   "metadata": {},
   "source": [
    "OK, now wouldn't it be useful to know what folders and files are present in your current location?  \n",
    "### <font color='Purple'>2.1.2 Listing the contents of a directory with `ls`<font>\n",
    "A very common thing you will want to do is to display the contents of a directory, i.e. list all the files.\n",
    "\n",
    "You can list the files (and directories) in your working directory using the `ls` command. Try `ls` in the cell below:"
   ]
  },
  {
   "cell_type": "code",
   "execution_count": null,
   "id": "44b2ab14",
   "metadata": {},
   "outputs": [],
   "source": []
  },
  {
   "cell_type": "code",
   "execution_count": null,
   "id": "08b867d7",
   "metadata": {},
   "outputs": [],
   "source": []
  },
  {
   "cell_type": "code",
   "execution_count": null,
   "id": "918bc8c1",
   "metadata": {},
   "outputs": [],
   "source": []
  },
  {
   "cell_type": "code",
   "execution_count": null,
   "id": "5580aa8a",
   "metadata": {},
   "outputs": [],
   "source": []
  }
 ],
 "metadata": {
  "kernelspec": {
   "display_name": "Bash",
   "language": "bash",
   "name": "bash"
  },
  "language_info": {
   "codemirror_mode": "shell",
   "file_extension": ".sh",
   "mimetype": "text/x-sh",
   "name": "bash"
  }
 },
 "nbformat": 4,
 "nbformat_minor": 5
}
