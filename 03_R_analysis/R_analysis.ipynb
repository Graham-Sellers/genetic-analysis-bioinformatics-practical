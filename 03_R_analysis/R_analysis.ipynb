{
 "cells": [
  {
   "cell_type": "markdown",
   "id": "73ed48ba",
   "metadata": {},
   "source": [
    "<hr>\n",
    "\n",
    "# <font color='Purple'>GENETIC ANALYSIS: *R* ANALYSIS OF SEQUENCING DATA</font>\n",
    "\n",
    "<hr>\n",
    "    \n",
    "Dr Graham S Sellers *g.sellers@hull.ac.uk*"
   ]
  },
  {
   "cell_type": "markdown",
   "id": "5d7a3d64",
   "metadata": {},
   "source": [
    "![image](./images/R.png)"
   ]
  },
  {
   "cell_type": "markdown",
   "id": "9fb31fd9",
   "metadata": {},
   "source": [
    "# <font color='Purple'>1. Data</font>\n",
    "\n",
    "<hr>\n",
    "\n",
    "*R* is widely used for data analysis. So it is no surprise that we must know how to deal with data when using it.  \n",
    "  \n",
    "\n",
    "**Important**: We will use a test dataset initially. It is DNA metabarcoding sequencing data in the same data output format as you will have for your sequencing data. Columns are samples, rows are \"species\". Each entry in the dataframe is the number of sequenced reads per \"species\".  \n",
    "\n",
    "Data discussed, lets get on with it!  \n",
    "## <font color='Purple'>1.1. Reading data into R</font>\n",
    "\n",
    "Data can be read into *R* in different ways. Here we will use the normal method for the kind of input data we have.  \n",
    "Our data is a tab-delimited (.tsv) output from the taxonomic assignment of the sequencing data generated from the lab practical.  \n",
    "You may remember the layout of the data in this format as we created an example of it in the last bioinformatics session.  \n",
    "\n",
    "First, lets make a dataframe object called \"*test_data*\" from the `test_data.tsv` located in the `data/` directory:\n"
   ]
  },
  {
   "cell_type": "code",
   "execution_count": null,
   "id": "0a347d47",
   "metadata": {},
   "outputs": [],
   "source": [
    "test_data = read.csv('data/test_data.tsv', sep = '\\t', header = T, row.names = 1)"
   ]
  },
  {
   "cell_type": "markdown",
   "id": "06adc8f5",
   "metadata": {},
   "source": [
    "A short description of what we just did there:  \n",
    "\n",
    "`test_data =` creates a data object (a dataframe in our case) called \"*test_data*\" which we can recall  \n",
    "\n",
    "We used the `read.csv()` function to read in a data file  \n",
    "\n",
    "`'/data/test_data.tsv'` is the path to the file we wish to read in  \n",
    "\n",
    "`sep = '\\t'` makes `read.csv()` read \"*test_data.tsv*\" as a tab-delimited file (.tsv) (i.e < TAB > between columns)  \n",
    "\n",
    "`header = T` means use the first row of the data as the column headers for the dataframe (logical: T (TRUE) or F (FALSE))  \n",
    "\n",
    "`row.names = 1` uses the first column (column 1) as the rownames of the dataframe  \n",
    "\n",
    "OK, we loaded in some data, now what?"
   ]
  },
  {
   "cell_type": "markdown",
   "id": "2f396ac8",
   "metadata": {},
   "source": [
    "## <font color='Purple'>1.2. Exploring the data</font>\n",
    "We have a data object, we'll explore it a bit with *R*'s basic functions.  \n",
    "\n",
    "First, let's recall the data object, our dataframe:"
   ]
  },
  {
   "cell_type": "code",
   "execution_count": null,
   "id": "ab0fc3ff",
   "metadata": {},
   "outputs": [],
   "source": [
    "test_data"
   ]
  },
  {
   "cell_type": "markdown",
   "id": "dc1d20db",
   "metadata": {},
   "source": [
    "That's a bit too much to look at!  \n",
    "\n",
    "So, let's just look at the top rows of the data using the `head()` function:"
   ]
  },
  {
   "cell_type": "code",
   "execution_count": null,
   "id": "d4284ace",
   "metadata": {},
   "outputs": [],
   "source": [
    "head(test_data)"
   ]
  },
  {
   "cell_type": "markdown",
   "id": "d802fe35",
   "metadata": {},
   "source": [
    "...and now the last rows with the `tail()` function:"
   ]
  },
  {
   "cell_type": "code",
   "execution_count": null,
   "id": "7ad48e6a",
   "metadata": {},
   "outputs": [],
   "source": [
    "tail(test_data)"
   ]
  },
  {
   "cell_type": "markdown",
   "id": "e2ca215a",
   "metadata": {},
   "source": [
    "Now look at the column names of the dataframe using the `colnames()` function:\n"
   ]
  },
  {
   "cell_type": "code",
   "execution_count": null,
   "id": "4e88c47f",
   "metadata": {},
   "outputs": [],
   "source": [
    "colnames(test_data)"
   ]
  },
  {
   "cell_type": "markdown",
   "id": "9cb842f0",
   "metadata": {},
   "source": [
    "You can also use the `names()` function:\n"
   ]
  },
  {
   "cell_type": "code",
   "execution_count": null,
   "id": "028e9e84",
   "metadata": {},
   "outputs": [],
   "source": [
    "names(test_data)"
   ]
  },
  {
   "cell_type": "markdown",
   "id": "0a975ebc",
   "metadata": {},
   "source": [
    "Now the row names with `rownames()`:\n"
   ]
  },
  {
   "cell_type": "code",
   "execution_count": null,
   "id": "dde14788",
   "metadata": {},
   "outputs": [],
   "source": [
    "rownames(test_data)"
   ]
  },
  {
   "cell_type": "markdown",
   "id": "715146f5",
   "metadata": {},
   "source": [
    "Right then, we know that columns are samples and rows are species.  \n",
    "\n",
    "To be exact it really isn't species, it is OTUs (Operational Taxonomic Units) as some assignments are higher than species (i.e genus etc.). OTU is the better way to describe taxonomic assignment, unless you focus purposefully on the species level.  \n",
    "\n",
    "The last column of the dataframe gives the taxonomic lineage of each OTU.  \n",
    "\n",
    "OK, pedantry aside, let's continue...  \n",
    "\n",
    "How large is our dataframe? Let's use the `dim()` function to get it's dimensions:"
   ]
  },
  {
   "cell_type": "code",
   "execution_count": null,
   "id": "18590734",
   "metadata": {},
   "outputs": [],
   "source": [
    "dim(test_data)"
   ]
  },
  {
   "cell_type": "markdown",
   "id": "6f74e2cd",
   "metadata": {},
   "source": [
    "Our test data is 54 rows by 6 columns (first value is rows, second is columns for the `dim()` output).  \n",
    "Taxonomic lineages (*taxonomy*) forms the final (6th) column.  \n",
    "\n",
    "Instead of using `dim()` you can return just the number of columns with `ncol()` or rows with `nrow()`:"
   ]
  },
  {
   "cell_type": "code",
   "execution_count": null,
   "id": "91c78fe9",
   "metadata": {},
   "outputs": [],
   "source": [
    "ncol(test_data)\n",
    "nrow(test_data)"
   ]
  },
  {
   "cell_type": "markdown",
   "id": "dc2bc55a",
   "metadata": {},
   "source": [
    "## <font color='Purple'>1.3. Viewing columns of the data</font>\n",
    "A column can be isolated from the dataframe and viewed by specifying the column name.  \n",
    "We can find column names using `colnames()` or `names()` (see above).  \n",
    "\n",
    "Look at an individual column of the dataframe like this:"
   ]
  },
  {
   "cell_type": "code",
   "execution_count": null,
   "id": "ee930b5a",
   "metadata": {},
   "outputs": [],
   "source": [
    "test_data$OP01"
   ]
  },
  {
   "cell_type": "markdown",
   "id": "d0e928a1",
   "metadata": {},
   "source": [
    "This shows a list of the values in that specific column. ***Only*** the values, nothing else.  \n",
    "\n",
    "**Question:** How could this be an issue?"
   ]
  },
  {
   "cell_type": "markdown",
   "id": "172e51b6",
   "metadata": {},
   "source": [
    "# <font color='Purple'>2. Data manipulation</font>\n",
    "\n",
    "<hr>\n",
    "\n",
    "You now know how to read in some data as a dataframe and look at it's structure. That is an important basic skill for any form of *R* analysis.  \n",
    "\n",
    "The dataframe is loaded into *R*, it has been explored, but now what to do with it?  \n",
    "\n",
    "**We need to manipulate it.**  \n",
    "\n",
    "By this I mean to look at subsets of interest to us, i.e. pull out the bits we want.  \n",
    "In this section we will look at different methods to do just this. The ways that we can organise our dataframe to better suit our needs.\n",
    "## <font color='Purple'>2.1. Dataframe indexing</font>\n",
    "\n",
    "Indexing is a very powerful method that can be used in multiple ways in *R*.  \n",
    "Indexing uses the values within a set of square brackets (`[` `]`) to isolate rows or columns from a dataframe.  \n",
    "\n",
    "It can be very abstract to get your head around to begin with, but it is a method worth understanding.  \n",
    "It will be important in the final stages of the *R* analysis of the sequencing data generated in the laboratory sessions.   \n",
    "\n",
    "\n",
    "We have \"*test_data*\", lets look at the first column of it:\n"
   ]
  },
  {
   "cell_type": "code",
   "execution_count": null,
   "id": "b5b27aa9",
   "metadata": {},
   "outputs": [],
   "source": [
    "test_data[,1]"
   ]
  },
  {
   "cell_type": "markdown",
   "id": "43013dfa",
   "metadata": {},
   "source": [
    "...now the first row:"
   ]
  },
  {
   "cell_type": "code",
   "execution_count": null,
   "id": "40a4e099",
   "metadata": {},
   "outputs": [],
   "source": [
    "test_data[1,]"
   ]
  },
  {
   "cell_type": "markdown",
   "id": "fb8a300e",
   "metadata": {},
   "source": [
    "The position of the comma changes which we look at, columns or rows.  \n",
    "\n",
    "Columns 1 to 4:"
   ]
  },
  {
   "cell_type": "code",
   "execution_count": null,
   "id": "ae809d54",
   "metadata": {},
   "outputs": [],
   "source": [
    "test_data[,1:4]"
   ]
  },
  {
   "cell_type": "markdown",
   "id": "85e5ff51",
   "metadata": {},
   "source": [
    "Rows 1 to 4:"
   ]
  },
  {
   "cell_type": "code",
   "execution_count": null,
   "id": "31f031b1",
   "metadata": {},
   "outputs": [],
   "source": [
    "test_data[1:4,]"
   ]
  },
  {
   "cell_type": "markdown",
   "id": "4b66455c",
   "metadata": {},
   "source": [
    "Columns 1 to 4 and rows 3 to 6:"
   ]
  },
  {
   "cell_type": "code",
   "execution_count": null,
   "id": "abd74eaf",
   "metadata": {},
   "outputs": [],
   "source": [
    "test_data[1:4, 3:6]"
   ]
  },
  {
   "cell_type": "markdown",
   "id": "c897197f",
   "metadata": {},
   "source": [
    "To put this into context: rows are before the comma, columns after.  \n",
    "Use the `dim()`, `ncol()` or `nrow()` functions to check how many columns and rows you have if needed (see above).  \n",
    "\n",
    "**An alternative:** To look at a column you can also use:"
   ]
  },
  {
   "cell_type": "code",
   "execution_count": null,
   "id": "1eab4c30",
   "metadata": {},
   "outputs": [],
   "source": [
    "test_data[1]"
   ]
  },
  {
   "cell_type": "markdown",
   "id": "f04fe38f",
   "metadata": {},
   "source": [
    "Dropping the comma now shows the row names too! **Note:** This only works with columns from an *R* dataframe.  \n",
    "\n",
    "**Question:** Is this more useful than `test_data$OP01`? Why? How?  \n",
    "\n",
    "## <font color='Purple'>2.2. Subset by indexing</font>\n",
    "Suppose we need to have the \"*test_data*\" dataframe without the taxonomy column?  \n",
    "Using dataframe indexing, in combination with the `ncol()` function (see above), we will look at the whole dataframe excluding the taxonomy column.  \n",
    "As \"*taxonomy*\" is the last column of our dataframe, `ncol(test_data)-1` will give the positional value of the second to last column.  \n",
    "\n",
    "We can now grab column 1 to the second to last column:"
   ]
  },
  {
   "cell_type": "code",
   "execution_count": null,
   "id": "33ace463",
   "metadata": {},
   "outputs": [],
   "source": [
    "test_data[,1:ncol(test_data)-1]"
   ]
  },
  {
   "cell_type": "markdown",
   "id": "e2272892",
   "metadata": {},
   "source": [
    "Oh look! No taxonomy column! Excellent!  \n",
    "\n",
    "Using this we can get numeric values from our dataframe.  \n",
    "The taxonomy column is strings - letters or words, not numeric values.  \n",
    "\n",
    "Suppose we need to get the sum all rows or columns of the dataframe? Having a string in a row will not work - it requires purely numeric values!  \n",
    "Removing the taxonomy column will achieve this perfectly!  \n",
    "\n",
    "Our \"*test_data*\" frame has samples as columns. So let's calculate the total sequencing reads of each sample by summing all values in each column using the `colSums()` function:"
   ]
  },
  {
   "cell_type": "code",
   "execution_count": null,
   "id": "8a6e53af",
   "metadata": {},
   "outputs": [],
   "source": [
    "colSums(test_data[,1:ncol(test_data)-1])"
   ]
  },
  {
   "cell_type": "markdown",
   "id": "491a5669",
   "metadata": {},
   "source": [
    "This is just what we were after. Nice.  \n",
    "\n",
    "If we would have done the following it would give an Error message as there is still the taxonomy column:"
   ]
  },
  {
   "cell_type": "code",
   "execution_count": null,
   "id": "f8c6d37c",
   "metadata": {},
   "outputs": [],
   "source": [
    "colSums(test_data)"
   ]
  },
  {
   "cell_type": "markdown",
   "id": "a548b4e7",
   "metadata": {},
   "source": [
    "What happens if the thing we want to exclude is somewhere else in the dataframe?  \n",
    "The only way we can access this is via explicitic column name exclusiion.  \n",
    "\n",
    "Columns or many things can be called by a matching string (i.e. letter or words).  \n",
    "\n",
    "Lets try this:"
   ]
  },
  {
   "cell_type": "code",
   "execution_count": null,
   "id": "569352da",
   "metadata": {},
   "outputs": [],
   "source": [
    "test_data[,!colnames(test_data) %in% \"taxonomy\"]"
   ]
  },
  {
   "cell_type": "markdown",
   "id": "98369661",
   "metadata": {},
   "source": [
    "Look at the code above. Consider the indexing and what is happening.  \n",
    "\n",
    "\n",
    "By using `!` we have just said \"*don't include*\" column names matching, `%in%`, \"*taxonomy*\".  \n",
    "Combine this with the indexing we learnt above and it is again a powerful tool for data manipulation.  \n",
    "This is a very useful thing to know. Maybe a dataframe can be complicated or even need to exclude certain columns explicitly by name. A point to consider.  \n",
    "\n",
    "Lets remember this as \"indexing by `%in%`\" - we'll use this later."
   ]
  },
  {
   "cell_type": "markdown",
   "id": "acc7263f",
   "metadata": {},
   "source": [
    "## <font color='Purple'>2.3. Playing with numbers</font>\n",
    "If a dataframe is entirely numeric (like \"*test_data*\" without the \"*taxonomy*\" column) then there are a multitude of mathmatics we can do to it.  \n",
    "\n",
    "Lets use indexing to crop the dataframe to pure numeric values (we know this because it is not including \"*taxonomy*\").  \n",
    "\n",
    "We will do this and assign a data object to it:"
   ]
  },
  {
   "cell_type": "code",
   "execution_count": null,
   "id": "ac5cb3dd",
   "metadata": {},
   "outputs": [],
   "source": [
    "ralf = test_data[1:5, 1:3]"
   ]
  },
  {
   "cell_type": "markdown",
   "id": "c55e2597",
   "metadata": {},
   "source": [
    "Recall the object \"*ralf*\":"
   ]
  },
  {
   "cell_type": "code",
   "execution_count": null,
   "id": "9a2b4fcb",
   "metadata": {},
   "outputs": [],
   "source": [
    "ralf"
   ]
  },
  {
   "cell_type": "markdown",
   "id": "47200bc6",
   "metadata": {},
   "source": [
    "Sum of all columns in \"*ralf*\" using the `colSums()` function:"
   ]
  },
  {
   "cell_type": "code",
   "execution_count": null,
   "id": "0adaca98",
   "metadata": {},
   "outputs": [],
   "source": [
    "colSums(ralf)"
   ]
  },
  {
   "cell_type": "markdown",
   "id": "992cd1ad",
   "metadata": {},
   "source": [
    "Sum of all rows in \"*ralf*\" using the `rowSums()` function:"
   ]
  },
  {
   "cell_type": "code",
   "execution_count": null,
   "id": "0c249ee7",
   "metadata": {},
   "outputs": [],
   "source": [
    "rowSums(ralf)"
   ]
  },
  {
   "cell_type": "markdown",
   "id": "367ee147",
   "metadata": {},
   "source": [
    "It is important to note that a lot can be done with numeric data. This will become apparent in the next section.  \n",
    "\n",
    "Using the cells below, have a play around with the test data to familiarise yourself some more with indexing."
   ]
  },
  {
   "cell_type": "code",
   "execution_count": null,
   "id": "993873a3",
   "metadata": {},
   "outputs": [],
   "source": []
  },
  {
   "cell_type": "code",
   "execution_count": null,
   "id": "e991998f",
   "metadata": {},
   "outputs": [],
   "source": []
  },
  {
   "cell_type": "code",
   "execution_count": null,
   "id": "bcd49d74",
   "metadata": {},
   "outputs": [],
   "source": []
  },
  {
   "cell_type": "code",
   "execution_count": null,
   "id": "e0257b22",
   "metadata": {},
   "outputs": [],
   "source": []
  },
  {
   "cell_type": "markdown",
   "id": "442c8f11",
   "metadata": {},
   "source": [
    "# <font color='Purple'>3. Sequencing data analysis</font>\n",
    "\n",
    "<hr>\n",
    "\n",
    "In the first seection learnt how to read in some data as a dataframe and look at it's structure. The second section demonstrated how to manipulate your data to get it to do what you want.  \n",
    "\n",
    "Now we will put all this together in the *R* analysis or the human skin microbiome metabracoding sequencing data you generated in the lab sessions.  \n",
    "\n",
    "This gets a bit complex, but don't panic - work through the stages and ask for assistance if needed.  \n",
    "\n",
    "## <font color='Purple'>IMPORTANT: Clear *R*'s memory</font>\n",
    "\n",
    "Before we go any further we should clean up *R*'s memory.  \n",
    "This will make sure there is none of the test data remaining to confuse the actual analysis. We can then begin the next section with a clean slate!  \n",
    "\n",
    "To do this run the cell below:"
   ]
  },
  {
   "cell_type": "code",
   "execution_count": null,
   "id": "f994fe70",
   "metadata": {},
   "outputs": [],
   "source": [
    "rm(list = ls())"
   ]
  },
  {
   "cell_type": "markdown",
   "id": "0d99db0d",
   "metadata": {},
   "source": [
    "Remember this as you will be using it later."
   ]
  },
  {
   "cell_type": "markdown",
   "id": "988a6fbc",
   "metadata": {},
   "source": [
    " \n",
    "## <font color='Purple'>3.1. Grab the data</font>\n",
    "\n",
    "Just as before we will get the data read into *R*. The file you need is located in the `data/` directory and is called \"genetic_analysis_students_raw.tsv\".  \n",
    "\n",
    "Lets get this data read in using the `read.csv()` function:"
   ]
  },
  {
   "cell_type": "code",
   "execution_count": null,
   "id": "86788236",
   "metadata": {},
   "outputs": [],
   "source": [
    "my_data = read.csv('data/genetic_analysis_raw_data.tsv', sep = '\\t', header = T, row.names = 1)"
   ]
  },
  {
   "cell_type": "markdown",
   "id": "1bbfa7de",
   "metadata": {},
   "source": [
    "## <font color='Purple'>3.1.1 Explore the data</font>\n",
    "\n",
    "Using the empty cells below, explore the data to get a better feel for it.  \n",
    "Remember the functions such as `head()`, `tail()`, `ncol()` etc.  "
   ]
  },
  {
   "cell_type": "code",
   "execution_count": null,
   "id": "bfba71f8",
   "metadata": {},
   "outputs": [],
   "source": []
  },
  {
   "cell_type": "code",
   "execution_count": null,
   "id": "3d5b97b3",
   "metadata": {},
   "outputs": [],
   "source": []
  },
  {
   "cell_type": "code",
   "execution_count": null,
   "id": "315e6eb3",
   "metadata": {},
   "outputs": [],
   "source": []
  },
  {
   "cell_type": "code",
   "execution_count": null,
   "id": "8ec77042",
   "metadata": {},
   "outputs": [],
   "source": []
  },
  {
   "cell_type": "code",
   "execution_count": null,
   "id": "307805ef",
   "metadata": {},
   "outputs": [],
   "source": []
  },
  {
   "cell_type": "markdown",
   "id": "f24f6b32",
   "metadata": {},
   "source": [
    "\n",
    "## <font color='Purple'>3.2. Cleaning the data</font>\n",
    "\n",
    "Metabarcoding data is invariably noisy. It will have some OTUs taxonomically assigned that are low read counts and a lot of sequencing data can be left completely unassigned to any taxonomic rank at all.  \n",
    "\n",
    "Before carrying out any analysis of the data we must first clean the dataframe and make it suitable for purpose. Here we shall do just that.  \n",
    "\n",
    "The data needs to be numeric, so let's remove the taxonomy column:"
   ]
  },
  {
   "cell_type": "code",
   "execution_count": null,
   "id": "da6315b8",
   "metadata": {},
   "outputs": [],
   "source": [
    "my_data = my_data[,!colnames(my_data) %in% \"taxonomy\"]"
   ]
  },
  {
   "cell_type": "markdown",
   "id": "1a2ff6ff",
   "metadata": {},
   "source": [
    "For our analysis the dataframe is oriented the wrong way. Rows should be samples and columns OTUs.  \n",
    "\n",
    "We need to transpose the data using the `t()` function.  \n",
    "But to make sure the dataframe remains as a dataframe, we have to make it a datframe again (yes, *R* can seem a bit strange at times). The `as.data.frame()` function will make it a datafame.  \n",
    "\n",
    "With this in mind, lets transpose our data:"
   ]
  },
  {
   "cell_type": "code",
   "execution_count": null,
   "id": "1f34e52f",
   "metadata": {},
   "outputs": [],
   "source": [
    "my_data = as.data.frame(t(my_data))"
   ]
  },
  {
   "cell_type": "markdown",
   "id": "365e5d85",
   "metadata": {},
   "source": [
    "Check to see if the data is correctly oriented in the cell below:"
   ]
  },
  {
   "cell_type": "code",
   "execution_count": null,
   "id": "f70817f0",
   "metadata": {},
   "outputs": [],
   "source": []
  },
  {
   "cell_type": "markdown",
   "id": "75c11583",
   "metadata": {},
   "source": [
    "**Now we must deal with the low frequency reads in each sample, the OTUs that have low read counts.**  \n",
    "\n",
    "In our data, OTUs in a sample with less than 5 reads assigned to them can be considered noise.  \n",
    "These OTUs could be genuinely presnent, but can just as easily be false artefacts from sequencing/taxonomic assignment error. Either way, they are not desirable and need to be removed.  \n",
    "\n",
    "To do this we will apply a threshold to the entire dataframe. The threshold being that any value below 5 is removed and counted as 0.  \n",
    "\n",
    "Using *R* logic (TRUE or FALSE) can determine if a result is < 5. Try it:"
   ]
  },
  {
   "cell_type": "code",
   "execution_count": null,
   "id": "805c9a0e",
   "metadata": {},
   "outputs": [],
   "source": [
    "my_data < 5"
   ]
  },
  {
   "cell_type": "markdown",
   "id": "2ce9b6ff",
   "metadata": {},
   "source": [
    "***Question:*** Is this what you were expecting to see? Why?  \n",
    "\n",
    "This in combination with indexing can change the values listed as TRUE to equal 0:"
   ]
  },
  {
   "cell_type": "code",
   "execution_count": null,
   "id": "ad504447",
   "metadata": {},
   "outputs": [],
   "source": [
    "my_data[my_data < 5] = 0"
   ]
  },
  {
   "cell_type": "markdown",
   "id": "36ae3c28",
   "metadata": {},
   "source": [
    "It is inevitable that we now have OTUs with no reads assigned to them anyehere in the dataframe. We need to remove them now as it will confuse downsteam analysis.  \n",
    "\n",
    "Let's chop these from the data using the `colSums()` function, with a pinch of indexing and logic:"
   ]
  },
  {
   "cell_type": "code",
   "execution_count": null,
   "id": "e7fce00e",
   "metadata": {},
   "outputs": [],
   "source": [
    "my_data = my_data[!colSums(my_data) == 0]"
   ]
  },
  {
   "cell_type": "markdown",
   "id": "aa613531",
   "metadata": {},
   "source": [
    "As you have probably seen from exploring the data earlier, there is an OTU called \"unassigned\". These are the reads that failed to be assigned to any taxonomic rank in the sample and are left \"unassigned\". These reads form no part in our analysis and need to be removed.  \n",
    "\n",
    "To do this we will use the same indexing methods as when we deleted the \"taxonomy\" before. However we are removing a row here not a column - remember the comma position while indexing for rows.  \n",
    "\n",
    "Right, time to drop the \"unassigned\" row:"
   ]
  },
  {
   "cell_type": "code",
   "execution_count": null,
   "id": "d06ac13c",
   "metadata": {},
   "outputs": [],
   "source": [
    "my_data = my_data[,!colnames(my_data) %in% \"unassigned\"]"
   ]
  },
  {
   "cell_type": "markdown",
   "id": "b65b440e",
   "metadata": {},
   "source": [
    "The code above should make sense to you by now. If not, please ask a demonstartor or discuss with the person next to you.  \n",
    "\n",
    "## <font color='Purple'>3.3. Write out the cleaned data</font>\n",
    "\n",
    "The data is now clean!  \n",
    "We should really write it out to a file so we can come back to it easily in future without having to run all the code again.  \n",
    "\n",
    "To do this we will use the `write.table()` function.  \n",
    "By now the code required to do this should make some kind of sense to you when looking at it.  \n",
    "\n",
    "So let's write it out:"
   ]
  },
  {
   "cell_type": "code",
   "execution_count": null,
   "id": "543712c8",
   "metadata": {},
   "outputs": [],
   "source": [
    "write.table(my_data, file = 'data/genetic_analysis_cleaned_data.tsv', sep = '\\t', col.names = NA)"
   ]
  },
  {
   "cell_type": "markdown",
   "id": "d165e5c1",
   "metadata": {},
   "source": [
    "## <font color='Purple'>Clear *R*'s memory</font>\n",
    "Here is a good point to clear the memory again.  \n",
    "None of the variables or objects we have justs generated above are needed anymore.  \n",
    "\n",
    "Use the cell below to clear *R*'s memory:"
   ]
  },
  {
   "cell_type": "code",
   "execution_count": null,
   "id": "f4962808",
   "metadata": {},
   "outputs": [],
   "source": []
  },
  {
   "cell_type": "markdown",
   "id": "fb7e6d67",
   "metadata": {},
   "source": [
    "## <font color='Purple'>-- PAUSE --</font>\n",
    "\n",
    "Before moving on take a moment to think about what you have just done.  \n",
    "Reflect on the data managemnent aspects you have just followed in the sections above.  \n",
    "\n",
    "**Questions:**  \n",
    "Why did we have to clean the data?  \n",
    "Can you describe what the important steps in the data cleaning were?  \n",
    "Can you go over the last section and understand the code involved?  \n",
    "\n",
    "Discuss with the person next to you or ask a demonstrator.\n"
   ]
  },
  {
   "cell_type": "markdown",
   "id": "9fea3b69",
   "metadata": {},
   "source": [
    "# <font color='Purple'>4. Formatting the data</font>\n",
    "For any type of analysis the data needs to be in the correct format.  \n",
    "Here we will do just that: wrangle the data to how we need it.  \n",
    "\n",
    "### <font color='Purple'>In this section there are some new concepts</font>\n",
    "The `#` is used as a method to comment in the code.  \n",
    "It is not run, but is used to add notation to what each part is doing.  \n",
    "\n",
    "A lot of code is now grouped in each cell and executed at once.  \n",
    "You will need to read each cell to determine what is happening.  \n",
    "\n",
    "## <font color='Purple'>4.1. Proportion reads and presence/absence</font>\n",
    "For our analysis we will need to create a proportion reads dataframe.  \n",
    "It will show the reads per OTU as a proportion of total reads per sample.\n",
    "\n",
    "Additionally, we will need to create a presence/absence dataframe.  \n",
    "All the data will be transformed to `0`'s and `1`'s - indicating an OTU's presence or absence in a sample.\n",
    "\n",
    "**In the cell below we will:**\n",
    "1. Read in the cleaned data we generated above\n",
    "2. Create a proportion reads dataframe\n",
    "3. Create a presence/absence dataframe"
   ]
  },
  {
   "cell_type": "code",
   "execution_count": null,
   "id": "d9bc6bd8",
   "metadata": {},
   "outputs": [],
   "source": [
    "# read in the new cleaned dataset:\n",
    "my_data_cleaned = read.csv('data/genetic_analysis_cleaned_data.tsv', sep = '\\t', header = T, row.names = 1)\n",
    "\n",
    "# make a proportion reads dataframe:\n",
    "my_data_prop = my_data_cleaned\n",
    "my_data_prop = my_data_prop/rowSums(my_data_prop)\n",
    "\n",
    "# make a presence/absence dataframe:\n",
    "my_data_pa = my_data_cleaned\n",
    "my_data_pa[my_data_pa > 0] = 1\n"
   ]
  },
  {
   "cell_type": "markdown",
   "id": "e9187ec1",
   "metadata": {},
   "source": [
    "The processes used in the cell above should make sense to you now you have manipulated data.  \n",
    "If unsure, discuss with the person next to you or ask a demonstrator.  \n",
    "\n",
    "\n",
    "## <font color='Purple'>4.2. Subsetting by sample site</font>\n",
    "\n",
    "**AKA: chopping the data up limb by limb!**\n",
    "   \n",
    "We njeed to make an OTU presence/absence dataframe per sample site.  \n",
    "As the data is based on limbs (arms and legs) we will make a list of seperate data frames per limb.  \n",
    "\n",
    "To do this we need to isolate each limb from the presence/absence data we created above.  \n",
    "\n",
    "The `grep()` function (*very powerful*) searches for a match to a regular expression in a data set.  \n",
    "In our data the limbs have a few unique characters associated with them.  \n",
    "\n",
    "Look at the `rownames()` of \"*my_data_pa*\" in the cell below:\n",
    "\n"
   ]
  },
  {
   "cell_type": "code",
   "execution_count": null,
   "id": "d3b8971a",
   "metadata": {},
   "outputs": [],
   "source": []
  },
  {
   "cell_type": "markdown",
   "id": "0e26c64b",
   "metadata": {},
   "source": [
    "You will see that the first two characters of each sample name are distinct to each limb. Right?  \n",
    "\n",
    "Using this we can tell `grep()` what to look for.  \n",
    "\n",
    "Try this to find samples from the left leg:"
   ]
  },
  {
   "cell_type": "code",
   "execution_count": null,
   "id": "3ecbe3f4",
   "metadata": {},
   "outputs": [],
   "source": [
    "grep(\"LL\", rownames(my_data_pa))"
   ]
  },
  {
   "cell_type": "markdown",
   "id": "c5a482dd",
   "metadata": {},
   "source": [
    "The output of `grep()` has just shown us the row numbers that have \"LL\" in their name.  \n",
    "These are from the left leg, well \"*leg left*\" as the sample naming system goes.  \n",
    "\n",
    "Using `grep()` we will now subset the data as we need it.  \n",
    "\n",
    "However, we need it in a manner that we can easily recall for analysis.  \n",
    "For this we will add each subset of the dataframe to a list.  \n",
    "\n",
    "**We will make a list of dataframes!**  \n",
    "\n",
    "Dataframe lists are immensely useful as we will see in the coming sections.\n",
    "\n",
    "But, for now...  \n",
    "\n",
    "Let's hack the data into body parts!"
   ]
  },
  {
   "cell_type": "code",
   "execution_count": null,
   "id": "115ae73b",
   "metadata": {},
   "outputs": [],
   "source": [
    "\n",
    "l_leg = my_data_pa[grep(\"LL\", rownames(my_data_pa)),]\n",
    "r_leg = my_data_pa[grep(\"LR\", rownames(my_data_pa)),]\n",
    "l_arm = my_data_pa[grep(\"AL\", rownames(my_data_pa)),]\n",
    "r_arm = my_data_pa[grep(\"AR\", rownames(my_data_pa)),]\n",
    "\n",
    "body_parts = list(l_leg, r_leg, l_arm, r_arm)\n",
    "\n",
    "names(body_parts) = c(\"left_leg\", \"right_leg\", \"left_arm\", \"right_arm\")\n"
   ]
  },
  {
   "cell_type": "markdown",
   "id": "22fb469b",
   "metadata": {},
   "source": [
    "**Explore the list of dataframes.**  \n",
    "\n",
    "For example:"
   ]
  },
  {
   "cell_type": "code",
   "execution_count": null,
   "id": "dcfc39d5",
   "metadata": {},
   "outputs": [],
   "source": [
    "body_parts[1]"
   ]
  },
  {
   "cell_type": "code",
   "execution_count": null,
   "id": "2eba0cd0",
   "metadata": {},
   "outputs": [],
   "source": []
  },
  {
   "cell_type": "code",
   "execution_count": null,
   "id": "1d9e2235",
   "metadata": {},
   "outputs": [],
   "source": []
  },
  {
   "cell_type": "code",
   "execution_count": null,
   "id": "d22363e3",
   "metadata": {},
   "outputs": [],
   "source": []
  },
  {
   "cell_type": "markdown",
   "id": "be90d72e",
   "metadata": {},
   "source": [
    "# <font color='Purple'>5. Ecological analysis</font>\n",
    "Now we have the data in suitable formats.  \n",
    "Yes, it is in multiple formats - you did it above!  \n",
    "It is now stored in memory and ready to be used.  \n",
    "\n",
    "We can start to look at the data in the ecological manner that we want.  \n",
    "\n",
    "### <font color='Purple'>Yes, we can actually consider the human microbiome in an ecological sense. It is not illegal!</font>  \n",
    "\n",
    "## <font color='Purple'>5.1. OTU richness</font>\n",
    "\n",
    "First we need to look at the OTU richness per sample per limb.  \n",
    "\n",
    "The cell below will do just this:"
   ]
  },
  {
   "cell_type": "code",
   "execution_count": null,
   "id": "321e8095",
   "metadata": {},
   "outputs": [],
   "source": [
    "# create an empty dataframe based on my_data_pa:\n",
    "my_data_rich = my_data_pa[FALSE]\n",
    "\n",
    "# Add columns for species richness - sum of rows from my_data_pa:\n",
    "my_data_rich$richness = rowSums(my_data_pa)\n",
    "\n",
    "# Add limbs in as numbers rather than name:\n",
    "my_data_rich$limb = rep(c(1, 2, 3, 4), each = 3)\n",
    "\n",
    "# recall the data:\n",
    "my_data_rich"
   ]
  },
  {
   "cell_type": "markdown",
   "id": "e5904e6b",
   "metadata": {},
   "source": [
    "The limbs are numbered. This is done because *R* alphabetically orders things and will mess with our order of samples (legs, then arms).  \n",
    "We need them in the order they are given. This keeps the order of samples and is important for the following plot output.  \n",
    "\n",
    "Let's make our first meaningful plot of the analysis...\n",
    "\n",
    "### <font color='Purple'>OTU richness boxplot:</font>\n",
    "Now we will use the following code to make a boxplot of OTU richness per sample per site:"
   ]
  },
  {
   "cell_type": "code",
   "execution_count": null,
   "id": "c3677352",
   "metadata": {},
   "outputs": [],
   "source": [
    "boxplot(my_data_rich$richness ~ my_data_rich$limb,\n",
    "        # name the individual bars according to sample:\n",
    "        names = c(\"left leg\", \"right leg\", \"left arm\", \"right arm\"),\n",
    "        # add y axis label:\n",
    "        ylab = 'OTU richness',\n",
    "        # x axis label:\n",
    "        xlab = 'Sample site',\n",
    "        # x and y axis label size:\n",
    "        cex.lab = 1.5,\n",
    "        # make the axis tick labels horizontal:\n",
    "        las = 1)"
   ]
  },
  {
   "cell_type": "markdown",
   "id": "d94e72d8",
   "metadata": {},
   "source": [
    "What does the code in the above cell do? It has been annotated, do ***you*** understand it? Could ***you*** do it by yourself?\n",
    "\n",
    "**Google it.**\n",
    "\n",
    "It is important you understand what is going on.  \n",
    "\n",
    "Once you have thought/Googled about it, discuss with the person next to you or ask a demonstrator.\n",
    "\n",
    "### <font color='Purple'>Total OTU richness barplot:</font>\n",
    "Now we will use the `body_parts` list object we created earlier. Remember?  \n",
    "\n",
    "For each limb we will now calculate the total OTU richness.  \n",
    "We need to create a list of total OTU richness values for each limb with names to determine which limb it is."
   ]
  },
  {
   "cell_type": "code",
   "execution_count": null,
   "id": "c0709553",
   "metadata": {},
   "outputs": [],
   "source": [
    "l_leg_rich = sum(colSums(body_parts$left_leg) > 0)\n",
    "r_leg_rich = sum(colSums(body_parts$right_leg) > 0)\n",
    "l_arm_rich = sum(colSums(body_parts$left_arm) > 0)\n",
    "r_arm_rich = sum(colSums(body_parts$right_arm) > 0)\n",
    "\n",
    "total_richness = c(l_leg_rich, r_leg_rich, l_arm_rich, r_arm_rich)\n",
    "names(total_richness) = c(\"left leg\", \"right leg\", \"left arm\", \"right arm\")"
   ]
  },
  {
   "cell_type": "markdown",
   "id": "c06f3f8b",
   "metadata": {},
   "source": [
    "Does the above code make sense? It should at least make some. Ask a demonstrator if unsure.  \n",
    "\n",
    "Let's plot the barplot:"
   ]
  },
  {
   "cell_type": "code",
   "execution_count": null,
   "id": "c3b38926",
   "metadata": {},
   "outputs": [],
   "source": [
    "barplot(total_richness, beside = T)"
   ]
  },
  {
   "cell_type": "markdown",
   "id": "783ffd6b",
   "metadata": {},
   "source": [
    "Now we have another plot. What does it mean?  \n",
    "\n",
    "Discuss the plot results with the person next to you or ask a demonstrator."
   ]
  },
  {
   "cell_type": "code",
   "execution_count": null,
   "id": "dbacbd2d",
   "metadata": {},
   "outputs": [],
   "source": []
  },
  {
   "cell_type": "markdown",
   "id": "ac5d4752",
   "metadata": {},
   "source": [
    "# <font color='Purple'>5.2. Vegan analysis</font>\n",
    "**OK, now we are into heavy lifting territory!!!**  \n",
    "The analysis now gets big. Interestingly big - but still big.  \n",
    "### <font color='Purple'>Vegan</font>\n",
    "\n",
    "Vegan is an *R* package for ecological and community data anslysis.  \n",
    "\n",
    "**Vegan is the package that will make the important figures!**  \n",
    "\n",
    "Before we can use it, we need to load it.  \n",
    "Remember we are in an enclosed \"**environment**\" and everything required for the practical is available?  \n",
    "So all we need to do is call the required packages from the \"**environment**\".    \n",
    "\n",
    "Call in the **Vegan** package from *R*'s library with the `library()` function:"
   ]
  },
  {
   "cell_type": "code",
   "execution_count": null,
   "id": "ab841a7a",
   "metadata": {},
   "outputs": [],
   "source": [
    "library(vegan)"
   ]
  },
  {
   "cell_type": "markdown",
   "id": "6ede36f4",
   "metadata": {},
   "source": [
    "## <font color='Purple'>5.1. OTU accumulation:</font>\n",
    "\n",
    "We have the `body_parts` list dcreated (from above).  \n",
    "\n",
    "recall `body_parts` in the cell below:"
   ]
  },
  {
   "cell_type": "code",
   "execution_count": null,
   "id": "2f500bec",
   "metadata": {},
   "outputs": [],
   "source": [
    "body_parts"
   ]
  },
  {
   "cell_type": "markdown",
   "id": "45aa1d06",
   "metadata": {},
   "source": [
    "\n",
    "For the dataframes in `body_parts` we will have to \"*loop*\" through them and generate a \"*species accumulation*\" for each limb.  \n",
    "\n",
    "As you may have just guessed, \"*looping*\" in *R* is a vital skill for analysis.  \n",
    "\n",
    "Lets \"*loop*\" through something as an example:"
   ]
  },
  {
   "cell_type": "code",
   "execution_count": null,
   "id": "cb683b4d",
   "metadata": {},
   "outputs": [],
   "source": [
    "# make a concatinated list of numeric values:\n",
    "limp = c(1, 2, 3, 4)\n",
    "\n",
    "# loop through them and print each one:\n",
    "for(i in limp){print(i)}"
   ]
  },
  {
   "cell_type": "markdown",
   "id": "ea2718cf",
   "metadata": {},
   "source": [
    "As you can see \"*looping*\" is logically simple and very useful.  \n",
    "\n",
    "Now we will apply it ot our data and use Vegan to calculate some stuff on the way.  \n",
    "\n",
    "We will use Vegan's species accumulation function: `specaccum()`:"
   ]
  },
  {
   "cell_type": "code",
   "execution_count": null,
   "id": "5a95e5e6",
   "metadata": {
    "scrolled": true
   },
   "outputs": [],
   "source": [
    "# make an empty list:\n",
    "species_accum = list()\n",
    "\n",
    "# specify the \"limbs\":\n",
    "limbs = c(\"left_leg\", \"right_leg\", \"left_arm\", \"right_arm\")\n",
    "\n",
    "# loop through the limbs:\n",
    "for(limb in limbs){\n",
    "        # generate \"species \" accumulation:\n",
    "        vegan_accum = specaccum(body_parts[[limb]],\n",
    "              method = \"exact\",\n",
    "              permutations = 100)\n",
    "        # add to \"species_accum\" list:\n",
    "        species_accum[[limb]] = vegan_accum\n",
    "}"
   ]
  },
  {
   "cell_type": "markdown",
   "id": "b45218c9",
   "metadata": {},
   "source": [
    "There may have been some warnings there, do not worry. All is OK! We have just generated something!  \n",
    "\n",
    "**Question:** What have we generated? What does it mean?\n",
    "\n",
    "Now let's plot it:"
   ]
  },
  {
   "cell_type": "code",
   "execution_count": null,
   "id": "261ffce9",
   "metadata": {},
   "outputs": [],
   "source": [
    "# make the plot have a 2x2 grid of plots:\n",
    "par(mfrow = c(2, 2))\n",
    "\n",
    "#list of \"limbs\":\n",
    "limbs = c(\"left_leg\", \"right_leg\", \"left_arm\", \"right_arm\")\n",
    "\n",
    "# loop through limbs and plot:\n",
    "for(limb in limbs){\n",
    "    plot(species_accum[[limb]],\n",
    "        ylim = c(50, 300),\n",
    "        main = sub('_', ' ', limb),\n",
    "        xlab = 'Samples',\n",
    "        ylab = 'OTUs detected',\n",
    "        las = 1)\n",
    "    # add thicker lines to the main line of each plot:\n",
    "    lines(species_accum[[limb]]$richness, lwd = 3)\n",
    "}"
   ]
  },
  {
   "cell_type": "markdown",
   "id": "46a11bc8",
   "metadata": {},
   "source": [
    "We now have accumulation curves for OTUs. Is this meaningful?  \n",
    "Can you determine if the sampling number was sufficient to capture the maxima of OTUs?\n",
    "\n",
    "Discuss the results with the person next to you or ask a demonstrator.\n",
    "## <font color='Purple'>5.2. NMDS ordination:</font>\n",
    "**Now we get to plot a Non-metric multidimensional scaling (NMDS) ordination!**  \n",
    "\n",
    "As already mentioned Vegan has many purposes. This is the one that will show you the most important results.  \n",
    "\n",
    "First we must make an \"environment\" dataframe - a descriptive set of data for reference. It contains a lot of \"environmental\" info.  \n",
    "In our case, the sample name, limb, side (left or right) and side the limb is on (side + limb).  \n",
    "\n",
    "Here we use a function, `rep()`, to do a lot of work. **Google** it and see how it works.\n",
    "\n",
    "The cell below does everything needed:"
   ]
  },
  {
   "cell_type": "code",
   "execution_count": null,
   "id": "7151a537",
   "metadata": {},
   "outputs": [],
   "source": [
    "# create an env dataframe for use in vegan:\n",
    "veg_env = my_data_prop[FALSE]\n",
    "# set sample name from rownames of data:\n",
    "veg_env$site = rownames(veg_env)\n",
    "# make the limb column: \n",
    "veg_env$limb = rep(c('leg', 'arm'), each = 6)\n",
    "# make the side column:\n",
    "veg_env$side = rep(rep(c('left', 'right'), each = 3), 2)\n",
    "# make the side/limb clumn:\n",
    "veg_env$side_limb = paste(veg_env$side, veg_env$limb, sep = '_')"
   ]
  },
  {
   "cell_type": "markdown",
   "id": "e13ebfe8",
   "metadata": {},
   "source": [
    "### <font color='Purple'>5.2.1. Vegan metaMDS</font>\n",
    "We now feed in the proportion data, `my_data_prop`, to the ordination function of Vegan: `metaMDS()` and assign it to an object `ord`.  \n",
    "\n",
    "Run the code:"
   ]
  },
  {
   "cell_type": "code",
   "execution_count": null,
   "id": "1e3ff8bd",
   "metadata": {},
   "outputs": [],
   "source": [
    "ord = metaMDS(my_data_prop, k = 3, try = 100, trymax = 10000, distance = 'bray', na.rm = T)"
   ]
  },
  {
   "cell_type": "markdown",
   "id": "5fadb572",
   "metadata": {},
   "source": [
    "There is a lot going on here.  \n",
    "\n",
    "**Ask a demonstrator!**  \n",
    "\n",
    "### <font color='Purple'>Vegan NMDS plot</font>\n",
    "Now we have the data in the correct formats, lets plot the plot...  \n",
    "\n",
    "Run the wall of code below:"
   ]
  },
  {
   "cell_type": "code",
   "execution_count": null,
   "id": "1a861b20",
   "metadata": {},
   "outputs": [],
   "source": [
    "\n",
    "# empty plot of ord, no axes:\n",
    "plot(ord, disp = \"sites\", type = 'n', axes = F, xlab = 'NMDS1', ylab = 'NMDS2', bty = 'n', cex.lab = 1.5)\n",
    "\n",
    "# add correct x and y axes:\n",
    "axis(1, at = seq(-1,2,0.5), cex.axis = 1, padj = -0.5, tck = -0.01, lwd = 0, lwd.ticks = 2)\n",
    "axis(2, at = seq(-1,1,0.5), cex.axis = 1, las = 1, tck = -0.02, lwd = 0, lwd.ticks = 2)\n",
    "\n",
    "# add vertical and horizontal lines to show \"0, 0\":\n",
    "abline(h = 0, v = 0, lwd = 2, col = 'grey')\n",
    "\n",
    "# add ordination circumference elipses with corerect colours:\n",
    "ordiellipse(ord,\n",
    "            veg_env$side_limb, kind = \"ehull\", lwd = 2,\n",
    "            col = rep(c('green', 'red'), each = 2))\n",
    "\n",
    "# add sample names as text to points\n",
    "text(ord$points[,1:2], labels = veg_env$site, pos = 4)\n",
    "\n",
    "# add points to plot with colours specific to sites:\n",
    "points(ord,\n",
    "       disp = \"sites\",\n",
    "       pch = ifelse(veg_env$limb == 'arm', 21, 24),\n",
    "       bg = ifelse(veg_env$side == 'left', 'green', 'red'),\n",
    "       cex = 2,\n",
    "       col = 'black',\n",
    "       lwd=0.5)\n",
    "\n",
    "# add box around plot:\n",
    "box('plot', lwd=2)"
   ]
  },
  {
   "cell_type": "markdown",
   "id": "62d6a891",
   "metadata": {},
   "source": [
    "Can you interpret the plot correctly? Can you understand the code that made it?  \n",
    "\n",
    "Discuss the plot results with the person next to you or ask a demonstrator."
   ]
  },
  {
   "cell_type": "markdown",
   "id": "01caefc0",
   "metadata": {},
   "source": [
    "# <font color='Purple'>6. Session complete</font>\n",
    "### <font color='Purple'>Before you leave, please make sure you understand what you have just done. Ask a demonstrator.</font>\n",
    "It is important that you know what you did. Spamming keys is one thing, but knowing what they did is the key.  \n",
    "I'd like you all to walk away slightly wiser, not just dumbstruck!\n",
    "\n",
    "### <font color='Purple'>Tomorrow:</font>\n",
    "\n",
    "We will revisit this and make some proper plots.  \n",
    "Yes, proper plots!  \n",
    "\n",
    "Until then...  \n",
    "\n",
    "o7\n",
    "# <font color='Purple'>-- GAME OVER! --</font>\n",
    "\n"
   ]
  }
 ],
 "metadata": {
  "kernelspec": {
   "display_name": "R",
   "language": "R",
   "name": "ir"
  },
  "language_info": {
   "codemirror_mode": "r",
   "file_extension": ".r",
   "mimetype": "text/x-r-source",
   "name": "R",
   "pygments_lexer": "r",
   "version": "4.2.1"
  }
 },
 "nbformat": 4,
 "nbformat_minor": 5
}
