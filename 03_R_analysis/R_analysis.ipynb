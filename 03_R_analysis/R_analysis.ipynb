{
 "cells": [
  {
   "cell_type": "markdown",
   "id": "5d7a3d64",
   "metadata": {},
   "source": [
    "![image](./images/terminal.jpg)"
   ]
  },
  {
   "cell_type": "code",
   "execution_count": 2,
   "id": "957d3bb5",
   "metadata": {},
   "outputs": [],
   "source": [
    "library(iNEXT)"
   ]
  },
  {
   "cell_type": "code",
   "execution_count": null,
   "id": "931dc1c8",
   "metadata": {},
   "outputs": [],
   "source": []
  },
  {
   "cell_type": "code",
   "execution_count": null,
   "id": "fe2cf3ce",
   "metadata": {},
   "outputs": [],
   "source": []
  },
  {
   "cell_type": "code",
   "execution_count": null,
   "id": "0a347d47",
   "metadata": {},
   "outputs": [],
   "source": []
  }
 ],
 "metadata": {
  "kernelspec": {
   "display_name": "R",
   "language": "R",
   "name": "ir"
  },
  "language_info": {
   "codemirror_mode": "r",
   "file_extension": ".r",
   "mimetype": "text/x-r-source",
   "name": "R",
   "pygments_lexer": "r",
   "version": "4.2.1"
  }
 },
 "nbformat": 4,
 "nbformat_minor": 5
}
